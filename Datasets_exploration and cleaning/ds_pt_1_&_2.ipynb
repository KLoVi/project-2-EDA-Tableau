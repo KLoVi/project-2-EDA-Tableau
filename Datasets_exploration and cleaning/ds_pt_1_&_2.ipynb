{
 "cells": [
  {
   "cell_type": "markdown",
   "id": "bdfbd6cc",
   "metadata": {},
   "source": [
    "Digital Footprints (df_final_web_data): A detailed trace of client interactions online, divided into two parts: pt_1 and pt_2. It’s recommended to merge these two files prior to a comprehensive data analysis."
   ]
  },
  {
   "cell_type": "markdown",
   "id": "696f477b",
   "metadata": {},
   "source": [
    "Metadata\n",
    "This comprehensive set of fields will guide your analysis, helping you unravel the intricacies of client behavior and preferences.\n",
    "\n",
    "client_id: Every client’s unique ID.\n",
    "variation: Indicates if a client was part of the experiment.\n",
    "visitor_id: A unique ID for each client-device combination.\n",
    "visit_id: A unique ID for each web visit/session.\n",
    "process_step: Marks each step in the digital process.\n",
    "date_time: Timestamp of each web activity.\n",
    "clnt_tenure_yr: Represents how long the client has been with Vanguard, measured in years.\n",
    "clnt_tenure_mnth: Further breaks down the client’s tenure with Vanguard in months.\n",
    "clnt_age: Indicates the age of the client.\n",
    "gendr: Specifies the client’s gender.\n",
    "num_accts: Denotes the number of accounts the client holds with Vanguard.\n",
    "bal: Gives the total balance spread across all accounts for a particular client.\n",
    "calls_6_mnth: Records the number of times the client reached out over a call in the past six months.\n",
    "logons_6_mnth: Reflects the frequency with which the client logged onto Vanguard’s platform over the last six months."
   ]
  },
  {
   "cell_type": "code",
   "execution_count": 30,
   "id": "bc652b13",
   "metadata": {},
   "outputs": [],
   "source": [
    "import pandas as pd\n",
    "import matplotlib.pyplot as plt\n",
    "import seaborn as sns\n",
    "import numpy as np\n",
    "\n",
    "pd.set_option('display.max_rows', 500)\n",
    "\n",
    "%matplotlib inline "
   ]
  },
  {
   "cell_type": "code",
   "execution_count": 31,
   "id": "0c5064d4",
   "metadata": {},
   "outputs": [],
   "source": [
    "pt_1 = \"https://raw.githubusercontent.com/KLoVi/vanguard-ab-test/main/Datasets_raw/df_final_web_data_pt_1.txt\""
   ]
  },
  {
   "cell_type": "code",
   "execution_count": 32,
   "id": "9ca0d507",
   "metadata": {},
   "outputs": [],
   "source": [
    "pt_2 = \"https://raw.githubusercontent.com/KLoVi/vanguard-ab-test/main/Datasets_raw/df_final_web_data_pt_2.txt\""
   ]
  },
  {
   "cell_type": "code",
   "execution_count": 33,
   "id": "1bac1e32",
   "metadata": {
    "scrolled": true
   },
   "outputs": [],
   "source": [
    "df_1 = pd.read_csv(pt_1)"
   ]
  },
  {
   "cell_type": "code",
   "execution_count": 34,
   "id": "a932c316",
   "metadata": {
    "scrolled": false
   },
   "outputs": [
    {
     "data": {
      "text/html": [
       "<div>\n",
       "<style scoped>\n",
       "    .dataframe tbody tr th:only-of-type {\n",
       "        vertical-align: middle;\n",
       "    }\n",
       "\n",
       "    .dataframe tbody tr th {\n",
       "        vertical-align: top;\n",
       "    }\n",
       "\n",
       "    .dataframe thead th {\n",
       "        text-align: right;\n",
       "    }\n",
       "</style>\n",
       "<table border=\"1\" class=\"dataframe\">\n",
       "  <thead>\n",
       "    <tr style=\"text-align: right;\">\n",
       "      <th></th>\n",
       "      <th>client_id</th>\n",
       "      <th>visitor_id</th>\n",
       "      <th>visit_id</th>\n",
       "      <th>process_step</th>\n",
       "      <th>date_time</th>\n",
       "    </tr>\n",
       "  </thead>\n",
       "  <tbody>\n",
       "    <tr>\n",
       "      <th>0</th>\n",
       "      <td>9988021</td>\n",
       "      <td>580560515_7732621733</td>\n",
       "      <td>781255054_21935453173_531117</td>\n",
       "      <td>step_3</td>\n",
       "      <td>2017-04-17 15:27:07</td>\n",
       "    </tr>\n",
       "    <tr>\n",
       "      <th>1</th>\n",
       "      <td>9988021</td>\n",
       "      <td>580560515_7732621733</td>\n",
       "      <td>781255054_21935453173_531117</td>\n",
       "      <td>step_2</td>\n",
       "      <td>2017-04-17 15:26:51</td>\n",
       "    </tr>\n",
       "    <tr>\n",
       "      <th>2</th>\n",
       "      <td>9988021</td>\n",
       "      <td>580560515_7732621733</td>\n",
       "      <td>781255054_21935453173_531117</td>\n",
       "      <td>step_3</td>\n",
       "      <td>2017-04-17 15:19:22</td>\n",
       "    </tr>\n",
       "    <tr>\n",
       "      <th>3</th>\n",
       "      <td>9988021</td>\n",
       "      <td>580560515_7732621733</td>\n",
       "      <td>781255054_21935453173_531117</td>\n",
       "      <td>step_2</td>\n",
       "      <td>2017-04-17 15:19:13</td>\n",
       "    </tr>\n",
       "    <tr>\n",
       "      <th>4</th>\n",
       "      <td>9988021</td>\n",
       "      <td>580560515_7732621733</td>\n",
       "      <td>781255054_21935453173_531117</td>\n",
       "      <td>step_3</td>\n",
       "      <td>2017-04-17 15:18:04</td>\n",
       "    </tr>\n",
       "    <tr>\n",
       "      <th>5</th>\n",
       "      <td>9988021</td>\n",
       "      <td>580560515_7732621733</td>\n",
       "      <td>781255054_21935453173_531117</td>\n",
       "      <td>step_2</td>\n",
       "      <td>2017-04-17 15:17:15</td>\n",
       "    </tr>\n",
       "    <tr>\n",
       "      <th>6</th>\n",
       "      <td>9988021</td>\n",
       "      <td>580560515_7732621733</td>\n",
       "      <td>781255054_21935453173_531117</td>\n",
       "      <td>step_1</td>\n",
       "      <td>2017-04-17 15:17:01</td>\n",
       "    </tr>\n",
       "    <tr>\n",
       "      <th>7</th>\n",
       "      <td>9988021</td>\n",
       "      <td>580560515_7732621733</td>\n",
       "      <td>781255054_21935453173_531117</td>\n",
       "      <td>start</td>\n",
       "      <td>2017-04-17 15:16:22</td>\n",
       "    </tr>\n",
       "    <tr>\n",
       "      <th>8</th>\n",
       "      <td>8320017</td>\n",
       "      <td>39393514_33118319366</td>\n",
       "      <td>960651974_70596002104_312201</td>\n",
       "      <td>confirm</td>\n",
       "      <td>2017-04-05 13:10:05</td>\n",
       "    </tr>\n",
       "    <tr>\n",
       "      <th>9</th>\n",
       "      <td>8320017</td>\n",
       "      <td>39393514_33118319366</td>\n",
       "      <td>960651974_70596002104_312201</td>\n",
       "      <td>step_3</td>\n",
       "      <td>2017-04-05 13:09:43</td>\n",
       "    </tr>\n",
       "    <tr>\n",
       "      <th>10</th>\n",
       "      <td>8320017</td>\n",
       "      <td>39393514_33118319366</td>\n",
       "      <td>960651974_70596002104_312201</td>\n",
       "      <td>step_2</td>\n",
       "      <td>2017-04-05 13:08:40</td>\n",
       "    </tr>\n",
       "    <tr>\n",
       "      <th>11</th>\n",
       "      <td>8320017</td>\n",
       "      <td>39393514_33118319366</td>\n",
       "      <td>960651974_70596002104_312201</td>\n",
       "      <td>step_1</td>\n",
       "      <td>2017-04-05 13:08:24</td>\n",
       "    </tr>\n",
       "    <tr>\n",
       "      <th>12</th>\n",
       "      <td>8320017</td>\n",
       "      <td>39393514_33118319366</td>\n",
       "      <td>960651974_70596002104_312201</td>\n",
       "      <td>start</td>\n",
       "      <td>2017-04-05 13:08:06</td>\n",
       "    </tr>\n",
       "    <tr>\n",
       "      <th>13</th>\n",
       "      <td>4033851</td>\n",
       "      <td>762728880_76361333336</td>\n",
       "      <td>949661017_22392791362_127391</td>\n",
       "      <td>confirm</td>\n",
       "      <td>2017-04-05 12:29:03</td>\n",
       "    </tr>\n",
       "    <tr>\n",
       "      <th>14</th>\n",
       "      <td>4033851</td>\n",
       "      <td>762728880_76361333336</td>\n",
       "      <td>949661017_22392791362_127391</td>\n",
       "      <td>confirm</td>\n",
       "      <td>2017-04-05 12:29:01</td>\n",
       "    </tr>\n",
       "    <tr>\n",
       "      <th>15</th>\n",
       "      <td>4033851</td>\n",
       "      <td>762728880_76361333336</td>\n",
       "      <td>949661017_22392791362_127391</td>\n",
       "      <td>confirm</td>\n",
       "      <td>2017-04-05 12:28:52</td>\n",
       "    </tr>\n",
       "    <tr>\n",
       "      <th>16</th>\n",
       "      <td>4033851</td>\n",
       "      <td>762728880_76361333336</td>\n",
       "      <td>949661017_22392791362_127391</td>\n",
       "      <td>step_3</td>\n",
       "      <td>2017-04-05 12:26:08</td>\n",
       "    </tr>\n",
       "    <tr>\n",
       "      <th>17</th>\n",
       "      <td>4033851</td>\n",
       "      <td>762728880_76361333336</td>\n",
       "      <td>949661017_22392791362_127391</td>\n",
       "      <td>step_2</td>\n",
       "      <td>2017-04-05 12:24:43</td>\n",
       "    </tr>\n",
       "    <tr>\n",
       "      <th>18</th>\n",
       "      <td>4033851</td>\n",
       "      <td>762728880_76361333336</td>\n",
       "      <td>949661017_22392791362_127391</td>\n",
       "      <td>step_1</td>\n",
       "      <td>2017-04-05 12:24:12</td>\n",
       "    </tr>\n",
       "    <tr>\n",
       "      <th>19</th>\n",
       "      <td>4033851</td>\n",
       "      <td>762728880_76361333336</td>\n",
       "      <td>949661017_22392791362_127391</td>\n",
       "      <td>start</td>\n",
       "      <td>2017-04-05 12:24:04</td>\n",
       "    </tr>\n",
       "  </tbody>\n",
       "</table>\n",
       "</div>"
      ],
      "text/plain": [
       "    client_id             visitor_id                      visit_id  \\\n",
       "0     9988021   580560515_7732621733  781255054_21935453173_531117   \n",
       "1     9988021   580560515_7732621733  781255054_21935453173_531117   \n",
       "2     9988021   580560515_7732621733  781255054_21935453173_531117   \n",
       "3     9988021   580560515_7732621733  781255054_21935453173_531117   \n",
       "4     9988021   580560515_7732621733  781255054_21935453173_531117   \n",
       "5     9988021   580560515_7732621733  781255054_21935453173_531117   \n",
       "6     9988021   580560515_7732621733  781255054_21935453173_531117   \n",
       "7     9988021   580560515_7732621733  781255054_21935453173_531117   \n",
       "8     8320017   39393514_33118319366  960651974_70596002104_312201   \n",
       "9     8320017   39393514_33118319366  960651974_70596002104_312201   \n",
       "10    8320017   39393514_33118319366  960651974_70596002104_312201   \n",
       "11    8320017   39393514_33118319366  960651974_70596002104_312201   \n",
       "12    8320017   39393514_33118319366  960651974_70596002104_312201   \n",
       "13    4033851  762728880_76361333336  949661017_22392791362_127391   \n",
       "14    4033851  762728880_76361333336  949661017_22392791362_127391   \n",
       "15    4033851  762728880_76361333336  949661017_22392791362_127391   \n",
       "16    4033851  762728880_76361333336  949661017_22392791362_127391   \n",
       "17    4033851  762728880_76361333336  949661017_22392791362_127391   \n",
       "18    4033851  762728880_76361333336  949661017_22392791362_127391   \n",
       "19    4033851  762728880_76361333336  949661017_22392791362_127391   \n",
       "\n",
       "   process_step            date_time  \n",
       "0        step_3  2017-04-17 15:27:07  \n",
       "1        step_2  2017-04-17 15:26:51  \n",
       "2        step_3  2017-04-17 15:19:22  \n",
       "3        step_2  2017-04-17 15:19:13  \n",
       "4        step_3  2017-04-17 15:18:04  \n",
       "5        step_2  2017-04-17 15:17:15  \n",
       "6        step_1  2017-04-17 15:17:01  \n",
       "7         start  2017-04-17 15:16:22  \n",
       "8       confirm  2017-04-05 13:10:05  \n",
       "9        step_3  2017-04-05 13:09:43  \n",
       "10       step_2  2017-04-05 13:08:40  \n",
       "11       step_1  2017-04-05 13:08:24  \n",
       "12        start  2017-04-05 13:08:06  \n",
       "13      confirm  2017-04-05 12:29:03  \n",
       "14      confirm  2017-04-05 12:29:01  \n",
       "15      confirm  2017-04-05 12:28:52  \n",
       "16       step_3  2017-04-05 12:26:08  \n",
       "17       step_2  2017-04-05 12:24:43  \n",
       "18       step_1  2017-04-05 12:24:12  \n",
       "19        start  2017-04-05 12:24:04  "
      ]
     },
     "execution_count": 34,
     "metadata": {},
     "output_type": "execute_result"
    }
   ],
   "source": [
    "df_1.head(20)"
   ]
  },
  {
   "cell_type": "code",
   "execution_count": 35,
   "id": "55941b09",
   "metadata": {},
   "outputs": [],
   "source": [
    "df_2 = pd.read_csv(pt_2)"
   ]
  },
  {
   "cell_type": "code",
   "execution_count": 36,
   "id": "9c8ad755",
   "metadata": {},
   "outputs": [
    {
     "data": {
      "text/html": [
       "<div>\n",
       "<style scoped>\n",
       "    .dataframe tbody tr th:only-of-type {\n",
       "        vertical-align: middle;\n",
       "    }\n",
       "\n",
       "    .dataframe tbody tr th {\n",
       "        vertical-align: top;\n",
       "    }\n",
       "\n",
       "    .dataframe thead th {\n",
       "        text-align: right;\n",
       "    }\n",
       "</style>\n",
       "<table border=\"1\" class=\"dataframe\">\n",
       "  <thead>\n",
       "    <tr style=\"text-align: right;\">\n",
       "      <th></th>\n",
       "      <th>client_id</th>\n",
       "      <th>visitor_id</th>\n",
       "      <th>visit_id</th>\n",
       "      <th>process_step</th>\n",
       "      <th>date_time</th>\n",
       "    </tr>\n",
       "  </thead>\n",
       "  <tbody>\n",
       "    <tr>\n",
       "      <th>0</th>\n",
       "      <td>763412</td>\n",
       "      <td>601952081_10457207388</td>\n",
       "      <td>397475557_40440946728_419634</td>\n",
       "      <td>confirm</td>\n",
       "      <td>2017-06-06 08:56:00</td>\n",
       "    </tr>\n",
       "    <tr>\n",
       "      <th>1</th>\n",
       "      <td>6019349</td>\n",
       "      <td>442094451_91531546617</td>\n",
       "      <td>154620534_35331068705_522317</td>\n",
       "      <td>confirm</td>\n",
       "      <td>2017-06-01 11:59:27</td>\n",
       "    </tr>\n",
       "    <tr>\n",
       "      <th>2</th>\n",
       "      <td>6019349</td>\n",
       "      <td>442094451_91531546617</td>\n",
       "      <td>154620534_35331068705_522317</td>\n",
       "      <td>step_3</td>\n",
       "      <td>2017-06-01 11:58:48</td>\n",
       "    </tr>\n",
       "    <tr>\n",
       "      <th>3</th>\n",
       "      <td>6019349</td>\n",
       "      <td>442094451_91531546617</td>\n",
       "      <td>154620534_35331068705_522317</td>\n",
       "      <td>step_2</td>\n",
       "      <td>2017-06-01 11:58:08</td>\n",
       "    </tr>\n",
       "    <tr>\n",
       "      <th>4</th>\n",
       "      <td>6019349</td>\n",
       "      <td>442094451_91531546617</td>\n",
       "      <td>154620534_35331068705_522317</td>\n",
       "      <td>step_1</td>\n",
       "      <td>2017-06-01 11:57:58</td>\n",
       "    </tr>\n",
       "    <tr>\n",
       "      <th>5</th>\n",
       "      <td>6019349</td>\n",
       "      <td>442094451_91531546617</td>\n",
       "      <td>154620534_35331068705_522317</td>\n",
       "      <td>start</td>\n",
       "      <td>2017-06-01 11:57:54</td>\n",
       "    </tr>\n",
       "    <tr>\n",
       "      <th>6</th>\n",
       "      <td>4726500</td>\n",
       "      <td>934350987_45569789638</td>\n",
       "      <td>467318052_88159801968_565608</td>\n",
       "      <td>confirm</td>\n",
       "      <td>2017-06-05 17:38:52</td>\n",
       "    </tr>\n",
       "    <tr>\n",
       "      <th>7</th>\n",
       "      <td>4726500</td>\n",
       "      <td>934350987_45569789638</td>\n",
       "      <td>467318052_88159801968_565608</td>\n",
       "      <td>step_3</td>\n",
       "      <td>2017-06-05 17:38:33</td>\n",
       "    </tr>\n",
       "    <tr>\n",
       "      <th>8</th>\n",
       "      <td>4726500</td>\n",
       "      <td>934350987_45569789638</td>\n",
       "      <td>467318052_88159801968_565608</td>\n",
       "      <td>step_2</td>\n",
       "      <td>2017-06-05 17:37:31</td>\n",
       "    </tr>\n",
       "    <tr>\n",
       "      <th>9</th>\n",
       "      <td>4726500</td>\n",
       "      <td>934350987_45569789638</td>\n",
       "      <td>467318052_88159801968_565608</td>\n",
       "      <td>step_1</td>\n",
       "      <td>2017-06-05 17:37:24</td>\n",
       "    </tr>\n",
       "    <tr>\n",
       "      <th>10</th>\n",
       "      <td>4726500</td>\n",
       "      <td>934350987_45569789638</td>\n",
       "      <td>467318052_88159801968_565608</td>\n",
       "      <td>start</td>\n",
       "      <td>2017-06-05 17:37:16</td>\n",
       "    </tr>\n",
       "    <tr>\n",
       "      <th>11</th>\n",
       "      <td>2604484</td>\n",
       "      <td>403124303_66054292858</td>\n",
       "      <td>839120079_63294408771_355112</td>\n",
       "      <td>confirm</td>\n",
       "      <td>2017-06-05 17:13:38</td>\n",
       "    </tr>\n",
       "    <tr>\n",
       "      <th>12</th>\n",
       "      <td>9723244</td>\n",
       "      <td>159724599_74688076986</td>\n",
       "      <td>246088042_56009027918_726234</td>\n",
       "      <td>confirm</td>\n",
       "      <td>2017-06-01 15:04:09</td>\n",
       "    </tr>\n",
       "    <tr>\n",
       "      <th>13</th>\n",
       "      <td>4757483</td>\n",
       "      <td>368845273_83104011691</td>\n",
       "      <td>577583395_82876359150_125129</td>\n",
       "      <td>confirm</td>\n",
       "      <td>2017-06-01 15:02:21</td>\n",
       "    </tr>\n",
       "    <tr>\n",
       "      <th>14</th>\n",
       "      <td>9723244</td>\n",
       "      <td>159724599_74688076986</td>\n",
       "      <td>246088042_56009027918_726234</td>\n",
       "      <td>step_3</td>\n",
       "      <td>2017-06-01 15:02:13</td>\n",
       "    </tr>\n",
       "    <tr>\n",
       "      <th>15</th>\n",
       "      <td>4757483</td>\n",
       "      <td>368845273_83104011691</td>\n",
       "      <td>577583395_82876359150_125129</td>\n",
       "      <td>step_3</td>\n",
       "      <td>2017-06-01 15:01:48</td>\n",
       "    </tr>\n",
       "    <tr>\n",
       "      <th>16</th>\n",
       "      <td>4757483</td>\n",
       "      <td>368845273_83104011691</td>\n",
       "      <td>577583395_82876359150_125129</td>\n",
       "      <td>step_2</td>\n",
       "      <td>2017-06-01 15:00:41</td>\n",
       "    </tr>\n",
       "    <tr>\n",
       "      <th>17</th>\n",
       "      <td>9723244</td>\n",
       "      <td>159724599_74688076986</td>\n",
       "      <td>246088042_56009027918_726234</td>\n",
       "      <td>step_2</td>\n",
       "      <td>2017-06-01 15:00:40</td>\n",
       "    </tr>\n",
       "    <tr>\n",
       "      <th>18</th>\n",
       "      <td>9723244</td>\n",
       "      <td>159724599_74688076986</td>\n",
       "      <td>246088042_56009027918_726234</td>\n",
       "      <td>step_1</td>\n",
       "      <td>2017-06-01 15:00:25</td>\n",
       "    </tr>\n",
       "    <tr>\n",
       "      <th>19</th>\n",
       "      <td>9723244</td>\n",
       "      <td>159724599_74688076986</td>\n",
       "      <td>246088042_56009027918_726234</td>\n",
       "      <td>start</td>\n",
       "      <td>2017-06-01 15:00:22</td>\n",
       "    </tr>\n",
       "  </tbody>\n",
       "</table>\n",
       "</div>"
      ],
      "text/plain": [
       "    client_id             visitor_id                      visit_id  \\\n",
       "0      763412  601952081_10457207388  397475557_40440946728_419634   \n",
       "1     6019349  442094451_91531546617  154620534_35331068705_522317   \n",
       "2     6019349  442094451_91531546617  154620534_35331068705_522317   \n",
       "3     6019349  442094451_91531546617  154620534_35331068705_522317   \n",
       "4     6019349  442094451_91531546617  154620534_35331068705_522317   \n",
       "5     6019349  442094451_91531546617  154620534_35331068705_522317   \n",
       "6     4726500  934350987_45569789638  467318052_88159801968_565608   \n",
       "7     4726500  934350987_45569789638  467318052_88159801968_565608   \n",
       "8     4726500  934350987_45569789638  467318052_88159801968_565608   \n",
       "9     4726500  934350987_45569789638  467318052_88159801968_565608   \n",
       "10    4726500  934350987_45569789638  467318052_88159801968_565608   \n",
       "11    2604484  403124303_66054292858  839120079_63294408771_355112   \n",
       "12    9723244  159724599_74688076986  246088042_56009027918_726234   \n",
       "13    4757483  368845273_83104011691  577583395_82876359150_125129   \n",
       "14    9723244  159724599_74688076986  246088042_56009027918_726234   \n",
       "15    4757483  368845273_83104011691  577583395_82876359150_125129   \n",
       "16    4757483  368845273_83104011691  577583395_82876359150_125129   \n",
       "17    9723244  159724599_74688076986  246088042_56009027918_726234   \n",
       "18    9723244  159724599_74688076986  246088042_56009027918_726234   \n",
       "19    9723244  159724599_74688076986  246088042_56009027918_726234   \n",
       "\n",
       "   process_step            date_time  \n",
       "0       confirm  2017-06-06 08:56:00  \n",
       "1       confirm  2017-06-01 11:59:27  \n",
       "2        step_3  2017-06-01 11:58:48  \n",
       "3        step_2  2017-06-01 11:58:08  \n",
       "4        step_1  2017-06-01 11:57:58  \n",
       "5         start  2017-06-01 11:57:54  \n",
       "6       confirm  2017-06-05 17:38:52  \n",
       "7        step_3  2017-06-05 17:38:33  \n",
       "8        step_2  2017-06-05 17:37:31  \n",
       "9        step_1  2017-06-05 17:37:24  \n",
       "10        start  2017-06-05 17:37:16  \n",
       "11      confirm  2017-06-05 17:13:38  \n",
       "12      confirm  2017-06-01 15:04:09  \n",
       "13      confirm  2017-06-01 15:02:21  \n",
       "14       step_3  2017-06-01 15:02:13  \n",
       "15       step_3  2017-06-01 15:01:48  \n",
       "16       step_2  2017-06-01 15:00:41  \n",
       "17       step_2  2017-06-01 15:00:40  \n",
       "18       step_1  2017-06-01 15:00:25  \n",
       "19        start  2017-06-01 15:00:22  "
      ]
     },
     "execution_count": 36,
     "metadata": {},
     "output_type": "execute_result"
    }
   ],
   "source": [
    "df_2.head(20)"
   ]
  },
  {
   "cell_type": "code",
   "execution_count": 37,
   "id": "ffd5f217",
   "metadata": {
    "scrolled": true
   },
   "outputs": [],
   "source": [
    "df_merged = pd.concat([df_1, df_2], axis=0)"
   ]
  },
  {
   "cell_type": "code",
   "execution_count": 38,
   "id": "1a85e893",
   "metadata": {},
   "outputs": [
    {
     "data": {
      "text/plain": [
       "(755405, 5)"
      ]
     },
     "execution_count": 38,
     "metadata": {},
     "output_type": "execute_result"
    }
   ],
   "source": [
    "df_merged.shape"
   ]
  },
  {
   "cell_type": "code",
   "execution_count": 39,
   "id": "722ddfe1",
   "metadata": {
    "scrolled": true
   },
   "outputs": [
    {
     "data": {
      "text/html": [
       "<div>\n",
       "<style scoped>\n",
       "    .dataframe tbody tr th:only-of-type {\n",
       "        vertical-align: middle;\n",
       "    }\n",
       "\n",
       "    .dataframe tbody tr th {\n",
       "        vertical-align: top;\n",
       "    }\n",
       "\n",
       "    .dataframe thead th {\n",
       "        text-align: right;\n",
       "    }\n",
       "</style>\n",
       "<table border=\"1\" class=\"dataframe\">\n",
       "  <thead>\n",
       "    <tr style=\"text-align: right;\">\n",
       "      <th></th>\n",
       "      <th>client_id</th>\n",
       "      <th>visitor_id</th>\n",
       "      <th>visit_id</th>\n",
       "      <th>process_step</th>\n",
       "      <th>date_time</th>\n",
       "    </tr>\n",
       "  </thead>\n",
       "  <tbody>\n",
       "    <tr>\n",
       "      <th>0</th>\n",
       "      <td>9988021</td>\n",
       "      <td>580560515_7732621733</td>\n",
       "      <td>781255054_21935453173_531117</td>\n",
       "      <td>step_3</td>\n",
       "      <td>2017-04-17 15:27:07</td>\n",
       "    </tr>\n",
       "    <tr>\n",
       "      <th>1</th>\n",
       "      <td>9988021</td>\n",
       "      <td>580560515_7732621733</td>\n",
       "      <td>781255054_21935453173_531117</td>\n",
       "      <td>step_2</td>\n",
       "      <td>2017-04-17 15:26:51</td>\n",
       "    </tr>\n",
       "    <tr>\n",
       "      <th>2</th>\n",
       "      <td>9988021</td>\n",
       "      <td>580560515_7732621733</td>\n",
       "      <td>781255054_21935453173_531117</td>\n",
       "      <td>step_3</td>\n",
       "      <td>2017-04-17 15:19:22</td>\n",
       "    </tr>\n",
       "    <tr>\n",
       "      <th>3</th>\n",
       "      <td>9988021</td>\n",
       "      <td>580560515_7732621733</td>\n",
       "      <td>781255054_21935453173_531117</td>\n",
       "      <td>step_2</td>\n",
       "      <td>2017-04-17 15:19:13</td>\n",
       "    </tr>\n",
       "    <tr>\n",
       "      <th>4</th>\n",
       "      <td>9988021</td>\n",
       "      <td>580560515_7732621733</td>\n",
       "      <td>781255054_21935453173_531117</td>\n",
       "      <td>step_3</td>\n",
       "      <td>2017-04-17 15:18:04</td>\n",
       "    </tr>\n",
       "    <tr>\n",
       "      <th>...</th>\n",
       "      <td>...</td>\n",
       "      <td>...</td>\n",
       "      <td>...</td>\n",
       "      <td>...</td>\n",
       "      <td>...</td>\n",
       "    </tr>\n",
       "    <tr>\n",
       "      <th>412259</th>\n",
       "      <td>9668240</td>\n",
       "      <td>388766751_9038881013</td>\n",
       "      <td>922267647_3096648104_968866</td>\n",
       "      <td>start</td>\n",
       "      <td>2017-05-24 18:46:10</td>\n",
       "    </tr>\n",
       "    <tr>\n",
       "      <th>412260</th>\n",
       "      <td>9668240</td>\n",
       "      <td>388766751_9038881013</td>\n",
       "      <td>922267647_3096648104_968866</td>\n",
       "      <td>start</td>\n",
       "      <td>2017-05-24 18:45:29</td>\n",
       "    </tr>\n",
       "    <tr>\n",
       "      <th>412261</th>\n",
       "      <td>9668240</td>\n",
       "      <td>388766751_9038881013</td>\n",
       "      <td>922267647_3096648104_968866</td>\n",
       "      <td>step_1</td>\n",
       "      <td>2017-05-24 18:44:51</td>\n",
       "    </tr>\n",
       "    <tr>\n",
       "      <th>412262</th>\n",
       "      <td>9668240</td>\n",
       "      <td>388766751_9038881013</td>\n",
       "      <td>922267647_3096648104_968866</td>\n",
       "      <td>start</td>\n",
       "      <td>2017-05-24 18:44:34</td>\n",
       "    </tr>\n",
       "    <tr>\n",
       "      <th>412263</th>\n",
       "      <td>674799</td>\n",
       "      <td>947159805_81558194550</td>\n",
       "      <td>86152093_47511127657_716022</td>\n",
       "      <td>start</td>\n",
       "      <td>2017-06-03 12:17:09</td>\n",
       "    </tr>\n",
       "  </tbody>\n",
       "</table>\n",
       "<p>755405 rows × 5 columns</p>\n",
       "</div>"
      ],
      "text/plain": [
       "        client_id             visitor_id                      visit_id  \\\n",
       "0         9988021   580560515_7732621733  781255054_21935453173_531117   \n",
       "1         9988021   580560515_7732621733  781255054_21935453173_531117   \n",
       "2         9988021   580560515_7732621733  781255054_21935453173_531117   \n",
       "3         9988021   580560515_7732621733  781255054_21935453173_531117   \n",
       "4         9988021   580560515_7732621733  781255054_21935453173_531117   \n",
       "...           ...                    ...                           ...   \n",
       "412259    9668240   388766751_9038881013   922267647_3096648104_968866   \n",
       "412260    9668240   388766751_9038881013   922267647_3096648104_968866   \n",
       "412261    9668240   388766751_9038881013   922267647_3096648104_968866   \n",
       "412262    9668240   388766751_9038881013   922267647_3096648104_968866   \n",
       "412263     674799  947159805_81558194550   86152093_47511127657_716022   \n",
       "\n",
       "       process_step            date_time  \n",
       "0            step_3  2017-04-17 15:27:07  \n",
       "1            step_2  2017-04-17 15:26:51  \n",
       "2            step_3  2017-04-17 15:19:22  \n",
       "3            step_2  2017-04-17 15:19:13  \n",
       "4            step_3  2017-04-17 15:18:04  \n",
       "...             ...                  ...  \n",
       "412259        start  2017-05-24 18:46:10  \n",
       "412260        start  2017-05-24 18:45:29  \n",
       "412261       step_1  2017-05-24 18:44:51  \n",
       "412262        start  2017-05-24 18:44:34  \n",
       "412263        start  2017-06-03 12:17:09  \n",
       "\n",
       "[755405 rows x 5 columns]"
      ]
     },
     "execution_count": 39,
     "metadata": {},
     "output_type": "execute_result"
    }
   ],
   "source": [
    "df_merged"
   ]
  },
  {
   "cell_type": "code",
   "execution_count": 40,
   "id": "803f485f",
   "metadata": {
    "scrolled": true
   },
   "outputs": [
    {
     "data": {
      "text/plain": [
       "client_id       0\n",
       "visitor_id      0\n",
       "visit_id        0\n",
       "process_step    0\n",
       "date_time       0\n",
       "dtype: int64"
      ]
     },
     "execution_count": 40,
     "metadata": {},
     "output_type": "execute_result"
    }
   ],
   "source": [
    "df_merged.isnull().sum()"
   ]
  },
  {
   "cell_type": "code",
   "execution_count": 41,
   "id": "0caaad2f",
   "metadata": {},
   "outputs": [
    {
     "data": {
      "text/plain": [
       "10764"
      ]
     },
     "execution_count": 41,
     "metadata": {},
     "output_type": "execute_result"
    }
   ],
   "source": [
    "# Initially we had 10,764 duplicated rows; Clean duplicates: eliminate them.\n",
    "\n",
    "df_merged.duplicated().sum()"
   ]
  },
  {
   "cell_type": "code",
   "execution_count": 42,
   "id": "a665fa25",
   "metadata": {},
   "outputs": [],
   "source": [
    "df_merged.drop_duplicates(inplace=True)"
   ]
  },
  {
   "cell_type": "code",
   "execution_count": 43,
   "id": "9804a47c",
   "metadata": {
    "scrolled": true
   },
   "outputs": [
    {
     "name": "stdout",
     "output_type": "stream",
     "text": [
      "<class 'pandas.core.frame.DataFrame'>\n",
      "Index: 744641 entries, 0 to 412263\n",
      "Data columns (total 5 columns):\n",
      " #   Column        Non-Null Count   Dtype \n",
      "---  ------        --------------   ----- \n",
      " 0   client_id     744641 non-null  int64 \n",
      " 1   visitor_id    744641 non-null  object\n",
      " 2   visit_id      744641 non-null  object\n",
      " 3   process_step  744641 non-null  object\n",
      " 4   date_time     744641 non-null  object\n",
      "dtypes: int64(1), object(4)\n",
      "memory usage: 34.1+ MB\n"
     ]
    }
   ],
   "source": [
    "df_merged.info()"
   ]
  },
  {
   "cell_type": "code",
   "execution_count": 44,
   "id": "f83ae246",
   "metadata": {},
   "outputs": [],
   "source": [
    "# Change date_time like object to datetime type"
   ]
  },
  {
   "cell_type": "code",
   "execution_count": 45,
   "id": "70cd37e1",
   "metadata": {},
   "outputs": [],
   "source": [
    "df_merged[\"date_time\"] = pd.to_datetime(df_merged.date_time)"
   ]
  },
  {
   "cell_type": "code",
   "execution_count": 46,
   "id": "7bb2df1c",
   "metadata": {},
   "outputs": [
    {
     "name": "stdout",
     "output_type": "stream",
     "text": [
      "<class 'pandas.core.frame.DataFrame'>\n",
      "Index: 744641 entries, 0 to 412263\n",
      "Data columns (total 5 columns):\n",
      " #   Column        Non-Null Count   Dtype         \n",
      "---  ------        --------------   -----         \n",
      " 0   client_id     744641 non-null  int64         \n",
      " 1   visitor_id    744641 non-null  object        \n",
      " 2   visit_id      744641 non-null  object        \n",
      " 3   process_step  744641 non-null  object        \n",
      " 4   date_time     744641 non-null  datetime64[ns]\n",
      "dtypes: datetime64[ns](1), int64(1), object(3)\n",
      "memory usage: 34.1+ MB\n"
     ]
    }
   ],
   "source": [
    "df_merged.info()"
   ]
  },
  {
   "cell_type": "code",
   "execution_count": null,
   "id": "0a01450f",
   "metadata": {
    "scrolled": true
   },
   "outputs": [],
   "source": [
    "df_merged.nunique()\n",
    "\n",
    "# 120,157 clients -unique values\n",
    "# 130,236 visitor_id: algunos clientes usaron más de un device para ingresar a la plataforma\n",
    "# 158,095 visit_id: some clients visit the platform more than one time."
   ]
  },
  {
   "cell_type": "code",
   "execution_count": null,
   "id": "cbc9a0e0",
   "metadata": {},
   "outputs": [],
   "source": [
    "df_merged.process_step.unique()"
   ]
  },
  {
   "cell_type": "code",
   "execution_count": null,
   "id": "19b6996e",
   "metadata": {},
   "outputs": [],
   "source": [
    "df_merged[\"year\"] = df_merged[\"date_time\"].dt.year"
   ]
  },
  {
   "cell_type": "code",
   "execution_count": null,
   "id": "29de3ef7",
   "metadata": {
    "scrolled": true
   },
   "outputs": [],
   "source": [
    "df_merged"
   ]
  },
  {
   "cell_type": "code",
   "execution_count": null,
   "id": "cc1c73f8",
   "metadata": {},
   "outputs": [],
   "source": [
    "df_merged.shape"
   ]
  },
  {
   "cell_type": "code",
   "execution_count": null,
   "id": "7e0aeed4",
   "metadata": {},
   "outputs": [],
   "source": [
    "df_merged[\"year\"] = df_merged[\"date_time\"].dt.year\n",
    "df_merged[\"month\"] = df_merged[\"date_time\"].dt.month\n",
    "df_merged[\"day\"] = df_merged[\"date_time\"].dt.day\n",
    "df_merged[\"time\"] = df_merged[\"date_time\"].dt.time"
   ]
  },
  {
   "cell_type": "code",
   "execution_count": null,
   "id": "5b8635d2",
   "metadata": {},
   "outputs": [],
   "source": [
    "df_merged"
   ]
  },
  {
   "cell_type": "code",
   "execution_count": null,
   "id": "da870ba2",
   "metadata": {},
   "outputs": [],
   "source": [
    "df_merged.head(20)"
   ]
  },
  {
   "cell_type": "code",
   "execution_count": null,
   "id": "bb22ffdf",
   "metadata": {
    "scrolled": true
   },
   "outputs": [],
   "source": [
    "df_merged.year.unique()"
   ]
  },
  {
   "cell_type": "code",
   "execution_count": null,
   "id": "47eaecd6",
   "metadata": {
    "scrolled": false
   },
   "outputs": [],
   "source": [
    "df_merged.month.unique()"
   ]
  },
  {
   "cell_type": "markdown",
   "id": "0ce32fa6",
   "metadata": {},
   "source": [
    "Next, carry out a client behaviour analysis to answer any additional relevant questions you think are important."
   ]
  },
  {
   "cell_type": "code",
   "execution_count": null,
   "id": "54a6e65d",
   "metadata": {},
   "outputs": [],
   "source": [
    "df_clients = df_merged.groupby([\"client_id\"])[[\"process_step\"]].count()"
   ]
  },
  {
   "cell_type": "code",
   "execution_count": null,
   "id": "4f4dca83",
   "metadata": {},
   "outputs": [],
   "source": [
    "df_clients"
   ]
  },
  {
   "cell_type": "code",
   "execution_count": null,
   "id": "fe9e75df",
   "metadata": {
    "scrolled": true
   },
   "outputs": [],
   "source": [
    "sns.countplot(data = df_clients, x='process_step', palette=\"Set3\")"
   ]
  },
  {
   "cell_type": "code",
   "execution_count": null,
   "id": "6d26fe72",
   "metadata": {},
   "outputs": [],
   "source": [
    "pivot_month_clients = pd.pivot_table(df_merged, values = \"process_step\" , index= [\"client_id\"] , columns = [\"month\"], aggfunc = \"count\", fill_value=0, margins = True, margins_name = 'Total')"
   ]
  },
  {
   "cell_type": "code",
   "execution_count": null,
   "id": "c4451239",
   "metadata": {},
   "outputs": [],
   "source": [
    "pivot_month_clients"
   ]
  },
  {
   "cell_type": "code",
   "execution_count": null,
   "id": "8cdb8e07",
   "metadata": {
    "scrolled": true
   },
   "outputs": [],
   "source": [
    "df_month_unique = df_merged.groupby(\"month\")[[\"client_id\"]].nunique()"
   ]
  },
  {
   "cell_type": "code",
   "execution_count": null,
   "id": "40b9c8f6",
   "metadata": {},
   "outputs": [],
   "source": [
    "df_month_unique"
   ]
  },
  {
   "cell_type": "code",
   "execution_count": null,
   "id": "e1619628",
   "metadata": {
    "scrolled": true
   },
   "outputs": [],
   "source": [
    "df_month_unique.sum() ## 120,157 clients -unique values"
   ]
  },
  {
   "cell_type": "code",
   "execution_count": null,
   "id": "96e239e4",
   "metadata": {},
   "outputs": [],
   "source": [
    "sns.barplot(x=df_month_unique.index, y=df_month_unique[\"client_id\"], palette=\"Set3\");"
   ]
  },
  {
   "cell_type": "code",
   "execution_count": null,
   "id": "4299d9f7",
   "metadata": {},
   "outputs": [],
   "source": [
    "df_step_unique = df_merged.groupby(\"process_step\")[[\"client_id\"]].nunique()"
   ]
  },
  {
   "cell_type": "code",
   "execution_count": null,
   "id": "1b46c85d",
   "metadata": {},
   "outputs": [],
   "source": [
    "df_step_unique"
   ]
  },
  {
   "cell_type": "code",
   "execution_count": null,
   "id": "cb4dcb57",
   "metadata": {
    "scrolled": true
   },
   "outputs": [],
   "source": [
    "index_steps = ['start', 'step_1', 'step_2', 'step_3', 'confirm']\n",
    "\n",
    "df_step_unique.index = pd.Categorical(df_step_unique.index, categories=index_steps, ordered=True)\n",
    "\n",
    "df_step_unique = df_step_unique.sort_index()\n",
    "\n",
    "df_step_unique"
   ]
  },
  {
   "cell_type": "code",
   "execution_count": null,
   "id": "42f1e08a",
   "metadata": {},
   "outputs": [],
   "source": [
    "sns.barplot(x=df_step_unique.index, y=df_step_unique[\"client_id\"], palette=\"Set3\");"
   ]
  },
  {
   "cell_type": "code",
   "execution_count": null,
   "id": "5b43fadc",
   "metadata": {},
   "outputs": [],
   "source": [
    "df_merged.to_csv(\"/Users/karollvivianalopezvillegas/GitHub/vanguard-ab-test/Datasets_cleaned/df_final_clients.csv\")"
   ]
  }
 ],
 "metadata": {
  "kernelspec": {
   "display_name": "Python 3 (ipykernel)",
   "language": "python",
   "name": "python3"
  },
  "language_info": {
   "codemirror_mode": {
    "name": "ipython",
    "version": 3
   },
   "file_extension": ".py",
   "mimetype": "text/x-python",
   "name": "python",
   "nbconvert_exporter": "python",
   "pygments_lexer": "ipython3",
   "version": "3.11.7"
  }
 },
 "nbformat": 4,
 "nbformat_minor": 5
}
