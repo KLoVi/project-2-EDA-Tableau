{
 "cells": [
  {
   "cell_type": "markdown",
   "id": "f4f89b4a",
   "metadata": {},
   "source": [
    "Based on the chosen KPIs, how does the new design’s performance compare to the old one?"
   ]
  },
  {
   "cell_type": "code",
   "execution_count": 1,
   "id": "fe6d9104",
   "metadata": {},
   "outputs": [],
   "source": [
    "import pandas as pd\n",
    "import matplotlib.pyplot as plt\n",
    "import seaborn as sns\n",
    "import numpy as np\n",
    "\n",
    "%matplotlib inline "
   ]
  },
  {
   "cell_type": "code",
   "execution_count": null,
   "id": "7fd1e096",
   "metadata": {},
   "outputs": [],
   "source": [
    "# KPI Completion Rate: The proportion of users who reach the final ‘confirm’ step."
   ]
  },
  {
   "cell_type": "code",
   "execution_count": 2,
   "id": "a7d86909",
   "metadata": {},
   "outputs": [
    {
     "data": {
      "text/plain": [
       "53.87"
      ]
     },
     "execution_count": 2,
     "metadata": {},
     "output_type": "execute_result"
    }
   ],
   "source": [
    "total_confirm_t = 17862\n",
    "total_users_t = 33158\n",
    "completion_test = round((total_confirm_t/total_users_t)*100,2)\n",
    "completion_test"
   ]
  },
  {
   "cell_type": "code",
   "execution_count": 4,
   "id": "2945866d",
   "metadata": {},
   "outputs": [
    {
     "data": {
      "text/plain": [
       "47.99"
      ]
     },
     "execution_count": 4,
     "metadata": {},
     "output_type": "execute_result"
    }
   ],
   "source": [
    "total_confirm_c = 14833\n",
    "total_users_c = 30911\n",
    "completion_ctrl = round((total_confirm_c/total_users_c)*100,2)\n",
    "completion_ctrl "
   ]
  },
  {
   "cell_type": "code",
   "execution_count": 35,
   "id": "2ea4834a",
   "metadata": {},
   "outputs": [],
   "source": [
    "kpi = ['Ctrl_completion', 'Test_completion']\n",
    "results = [47.99, 53.87]\n",
    "confirm = [14833, 17862]\n",
    "users = [30911, 33158]\n",
    "df = pd.DataFrame({'KPI': kpi, 'Results': results, 'Confirm': confirm , 'Total_users': users })"
   ]
  },
  {
   "cell_type": "code",
   "execution_count": 36,
   "id": "f69ae9f2",
   "metadata": {
    "scrolled": true
   },
   "outputs": [
    {
     "data": {
      "text/html": [
       "<div>\n",
       "<style scoped>\n",
       "    .dataframe tbody tr th:only-of-type {\n",
       "        vertical-align: middle;\n",
       "    }\n",
       "\n",
       "    .dataframe tbody tr th {\n",
       "        vertical-align: top;\n",
       "    }\n",
       "\n",
       "    .dataframe thead th {\n",
       "        text-align: right;\n",
       "    }\n",
       "</style>\n",
       "<table border=\"1\" class=\"dataframe\">\n",
       "  <thead>\n",
       "    <tr style=\"text-align: right;\">\n",
       "      <th></th>\n",
       "      <th>KPI</th>\n",
       "      <th>Results</th>\n",
       "      <th>Confirm</th>\n",
       "      <th>Total_users</th>\n",
       "    </tr>\n",
       "  </thead>\n",
       "  <tbody>\n",
       "    <tr>\n",
       "      <th>0</th>\n",
       "      <td>Ctrl_completion</td>\n",
       "      <td>47.99</td>\n",
       "      <td>14833</td>\n",
       "      <td>30911</td>\n",
       "    </tr>\n",
       "    <tr>\n",
       "      <th>1</th>\n",
       "      <td>Test_completion</td>\n",
       "      <td>53.87</td>\n",
       "      <td>17862</td>\n",
       "      <td>33158</td>\n",
       "    </tr>\n",
       "  </tbody>\n",
       "</table>\n",
       "</div>"
      ],
      "text/plain": [
       "               KPI  Results  Confirm  Total_users\n",
       "0  Ctrl_completion    47.99    14833        30911\n",
       "1  Test_completion    53.87    17862        33158"
      ]
     },
     "execution_count": 36,
     "metadata": {},
     "output_type": "execute_result"
    }
   ],
   "source": [
    "df"
   ]
  },
  {
   "cell_type": "code",
   "execution_count": 37,
   "id": "d44ab566",
   "metadata": {},
   "outputs": [],
   "source": [
    "df = df.set_index('KPI', inplace=False)"
   ]
  },
  {
   "cell_type": "code",
   "execution_count": 38,
   "id": "1f22ac7f",
   "metadata": {},
   "outputs": [
    {
     "data": {
      "text/html": [
       "<div>\n",
       "<style scoped>\n",
       "    .dataframe tbody tr th:only-of-type {\n",
       "        vertical-align: middle;\n",
       "    }\n",
       "\n",
       "    .dataframe tbody tr th {\n",
       "        vertical-align: top;\n",
       "    }\n",
       "\n",
       "    .dataframe thead th {\n",
       "        text-align: right;\n",
       "    }\n",
       "</style>\n",
       "<table border=\"1\" class=\"dataframe\">\n",
       "  <thead>\n",
       "    <tr style=\"text-align: right;\">\n",
       "      <th></th>\n",
       "      <th>Results</th>\n",
       "      <th>Confirm</th>\n",
       "      <th>Total_users</th>\n",
       "    </tr>\n",
       "    <tr>\n",
       "      <th>KPI</th>\n",
       "      <th></th>\n",
       "      <th></th>\n",
       "      <th></th>\n",
       "    </tr>\n",
       "  </thead>\n",
       "  <tbody>\n",
       "    <tr>\n",
       "      <th>Ctrl_completion</th>\n",
       "      <td>47.99</td>\n",
       "      <td>14833</td>\n",
       "      <td>30911</td>\n",
       "    </tr>\n",
       "    <tr>\n",
       "      <th>Test_completion</th>\n",
       "      <td>53.87</td>\n",
       "      <td>17862</td>\n",
       "      <td>33158</td>\n",
       "    </tr>\n",
       "  </tbody>\n",
       "</table>\n",
       "</div>"
      ],
      "text/plain": [
       "                 Results  Confirm  Total_users\n",
       "KPI                                           \n",
       "Ctrl_completion    47.99    14833        30911\n",
       "Test_completion    53.87    17862        33158"
      ]
     },
     "execution_count": 38,
     "metadata": {},
     "output_type": "execute_result"
    }
   ],
   "source": [
    "df "
   ]
  },
  {
   "cell_type": "code",
   "execution_count": null,
   "id": "10c36943",
   "metadata": {},
   "outputs": [],
   "source": [
    "# KPI Time Spent on Each Step: The average duration users spend on each step"
   ]
  },
  {
   "cell_type": "markdown",
   "id": "d240c4e3",
   "metadata": {},
   "source": [
    "Variation: Control\n",
    "          Transition  Average Duration (seconds)\n",
    "0    start_to_step_1                   64.306905\n",
    "1   step_1_to_step_2                   50.576086\n",
    "2   step_2_to_step_3                  110.146508\n",
    "3  step_3_to_confirm                  168.500918\n",
    "\n",
    "\n",
    "Variation: Test\n",
    "          Transition  Average Duration (seconds)\n",
    "0    start_to_step_1                   52.481851\n",
    "1   step_1_to_step_2                   76.060627\n",
    "2   step_2_to_step_3                  107.843462\n",
    "3  step_3_to_confirm                  143.410847"
   ]
  },
  {
   "cell_type": "code",
   "execution_count": 23,
   "id": "a9c0e098",
   "metadata": {},
   "outputs": [],
   "source": [
    "transition = [\"start_to_step_1\", \"step_1_to_step_2\", \"step_2_to_step_3\", \"step_3_to_confirm\"]\n",
    "control = [64.306905, 50.576086, 110.146508, 168.500918]\n",
    "test = [52.481851, 76.060627, 107.843462, 143.410847]\n",
    "df_t = pd.DataFrame({'Transition': transition, 'Control': control, 'Test': test})"
   ]
  },
  {
   "cell_type": "code",
   "execution_count": 24,
   "id": "aca86c86",
   "metadata": {},
   "outputs": [
    {
     "data": {
      "text/html": [
       "<div>\n",
       "<style scoped>\n",
       "    .dataframe tbody tr th:only-of-type {\n",
       "        vertical-align: middle;\n",
       "    }\n",
       "\n",
       "    .dataframe tbody tr th {\n",
       "        vertical-align: top;\n",
       "    }\n",
       "\n",
       "    .dataframe thead th {\n",
       "        text-align: right;\n",
       "    }\n",
       "</style>\n",
       "<table border=\"1\" class=\"dataframe\">\n",
       "  <thead>\n",
       "    <tr style=\"text-align: right;\">\n",
       "      <th></th>\n",
       "      <th>Transition</th>\n",
       "      <th>Control</th>\n",
       "      <th>Test</th>\n",
       "    </tr>\n",
       "  </thead>\n",
       "  <tbody>\n",
       "    <tr>\n",
       "      <th>0</th>\n",
       "      <td>start_to_step_1</td>\n",
       "      <td>64.306905</td>\n",
       "      <td>52.481851</td>\n",
       "    </tr>\n",
       "    <tr>\n",
       "      <th>1</th>\n",
       "      <td>step_1_to_step_2</td>\n",
       "      <td>50.576086</td>\n",
       "      <td>76.060627</td>\n",
       "    </tr>\n",
       "    <tr>\n",
       "      <th>2</th>\n",
       "      <td>step_2_to_step_3</td>\n",
       "      <td>110.146508</td>\n",
       "      <td>107.843462</td>\n",
       "    </tr>\n",
       "    <tr>\n",
       "      <th>3</th>\n",
       "      <td>step_3_to_confirm</td>\n",
       "      <td>168.500918</td>\n",
       "      <td>143.410847</td>\n",
       "    </tr>\n",
       "  </tbody>\n",
       "</table>\n",
       "</div>"
      ],
      "text/plain": [
       "          Transition     Control        Test\n",
       "0    start_to_step_1   64.306905   52.481851\n",
       "1   step_1_to_step_2   50.576086   76.060627\n",
       "2   step_2_to_step_3  110.146508  107.843462\n",
       "3  step_3_to_confirm  168.500918  143.410847"
      ]
     },
     "execution_count": 24,
     "metadata": {},
     "output_type": "execute_result"
    }
   ],
   "source": [
    "df_t"
   ]
  },
  {
   "cell_type": "code",
   "execution_count": null,
   "id": "7ac44ceb",
   "metadata": {},
   "outputs": [],
   "source": [
    "# KPI Error Rates: If there’s a step where users go back to a previous step, it may indicate confusion or an error. You should consider moving from a later step to an earlier one as an error."
   ]
  },
  {
   "cell_type": "markdown",
   "id": "6ff7a59b",
   "metadata": {},
   "source": [
    "Error rates by Variation:\n",
    "  Variation  total_steps  backward_steps  error_rate\n",
    "0   Control        93502            9504    0.101645\n",
    "1      Test       119375           16194    0.135657"
   ]
  },
  {
   "cell_type": "code",
   "execution_count": 49,
   "id": "637aa385",
   "metadata": {},
   "outputs": [],
   "source": [
    "kpi = ['Ctrl_error', 'Test_error']\n",
    "error_rate = [round(0.101645*100,2), round(0.135657*100,2)]\n",
    "backward_steps = [9504, 16194 ]\n",
    "total_steps = [93502, 119375]\n",
    "df_s = pd.DataFrame({'KPI': kpi, 'error_rate': error_rate, 'backward_steps': backward_steps , 'total_steps': total_steps })"
   ]
  },
  {
   "cell_type": "code",
   "execution_count": 50,
   "id": "c5ea3a96",
   "metadata": {},
   "outputs": [
    {
     "data": {
      "text/html": [
       "<div>\n",
       "<style scoped>\n",
       "    .dataframe tbody tr th:only-of-type {\n",
       "        vertical-align: middle;\n",
       "    }\n",
       "\n",
       "    .dataframe tbody tr th {\n",
       "        vertical-align: top;\n",
       "    }\n",
       "\n",
       "    .dataframe thead th {\n",
       "        text-align: right;\n",
       "    }\n",
       "</style>\n",
       "<table border=\"1\" class=\"dataframe\">\n",
       "  <thead>\n",
       "    <tr style=\"text-align: right;\">\n",
       "      <th></th>\n",
       "      <th>error_rate</th>\n",
       "      <th>backward_steps</th>\n",
       "      <th>total_steps</th>\n",
       "    </tr>\n",
       "    <tr>\n",
       "      <th>KPI</th>\n",
       "      <th></th>\n",
       "      <th></th>\n",
       "      <th></th>\n",
       "    </tr>\n",
       "  </thead>\n",
       "  <tbody>\n",
       "    <tr>\n",
       "      <th>Ctrl_error</th>\n",
       "      <td>10.16</td>\n",
       "      <td>9504</td>\n",
       "      <td>93502</td>\n",
       "    </tr>\n",
       "    <tr>\n",
       "      <th>Test_error</th>\n",
       "      <td>13.57</td>\n",
       "      <td>16194</td>\n",
       "      <td>119375</td>\n",
       "    </tr>\n",
       "  </tbody>\n",
       "</table>\n",
       "</div>"
      ],
      "text/plain": [
       "            error_rate  backward_steps  total_steps\n",
       "KPI                                                \n",
       "Ctrl_error       10.16            9504        93502\n",
       "Test_error       13.57           16194       119375"
      ]
     },
     "execution_count": 50,
     "metadata": {},
     "output_type": "execute_result"
    }
   ],
   "source": [
    "df_s = df_s.set_index('KPI', inplace=False)\n",
    "df_s"
   ]
  },
  {
   "cell_type": "code",
   "execution_count": null,
   "id": "a2206590",
   "metadata": {},
   "outputs": [],
   "source": []
  },
  {
   "cell_type": "code",
   "execution_count": 51,
   "id": "3d872d79",
   "metadata": {
    "scrolled": true
   },
   "outputs": [],
   "source": [
    "# gráficas"
   ]
  },
  {
   "cell_type": "code",
   "execution_count": 52,
   "id": "b49bc765",
   "metadata": {},
   "outputs": [
    {
     "data": {
      "text/html": [
       "<div>\n",
       "<style scoped>\n",
       "    .dataframe tbody tr th:only-of-type {\n",
       "        vertical-align: middle;\n",
       "    }\n",
       "\n",
       "    .dataframe tbody tr th {\n",
       "        vertical-align: top;\n",
       "    }\n",
       "\n",
       "    .dataframe thead th {\n",
       "        text-align: right;\n",
       "    }\n",
       "</style>\n",
       "<table border=\"1\" class=\"dataframe\">\n",
       "  <thead>\n",
       "    <tr style=\"text-align: right;\">\n",
       "      <th></th>\n",
       "      <th>Results</th>\n",
       "      <th>Confirm</th>\n",
       "      <th>Total_users</th>\n",
       "    </tr>\n",
       "    <tr>\n",
       "      <th>KPI</th>\n",
       "      <th></th>\n",
       "      <th></th>\n",
       "      <th></th>\n",
       "    </tr>\n",
       "  </thead>\n",
       "  <tbody>\n",
       "    <tr>\n",
       "      <th>Ctrl_completion</th>\n",
       "      <td>47.99</td>\n",
       "      <td>14833</td>\n",
       "      <td>30911</td>\n",
       "    </tr>\n",
       "    <tr>\n",
       "      <th>Test_completion</th>\n",
       "      <td>53.87</td>\n",
       "      <td>17862</td>\n",
       "      <td>33158</td>\n",
       "    </tr>\n",
       "  </tbody>\n",
       "</table>\n",
       "</div>"
      ],
      "text/plain": [
       "                 Results  Confirm  Total_users\n",
       "KPI                                           \n",
       "Ctrl_completion    47.99    14833        30911\n",
       "Test_completion    53.87    17862        33158"
      ]
     },
     "execution_count": 52,
     "metadata": {},
     "output_type": "execute_result"
    }
   ],
   "source": [
    "df"
   ]
  },
  {
   "cell_type": "code",
   "execution_count": 53,
   "id": "f51750c3",
   "metadata": {
    "scrolled": true
   },
   "outputs": [
    {
     "data": {
      "text/html": [
       "<div>\n",
       "<style scoped>\n",
       "    .dataframe tbody tr th:only-of-type {\n",
       "        vertical-align: middle;\n",
       "    }\n",
       "\n",
       "    .dataframe tbody tr th {\n",
       "        vertical-align: top;\n",
       "    }\n",
       "\n",
       "    .dataframe thead th {\n",
       "        text-align: right;\n",
       "    }\n",
       "</style>\n",
       "<table border=\"1\" class=\"dataframe\">\n",
       "  <thead>\n",
       "    <tr style=\"text-align: right;\">\n",
       "      <th></th>\n",
       "      <th>error_rate</th>\n",
       "      <th>backward_steps</th>\n",
       "      <th>total_steps</th>\n",
       "    </tr>\n",
       "    <tr>\n",
       "      <th>KPI</th>\n",
       "      <th></th>\n",
       "      <th></th>\n",
       "      <th></th>\n",
       "    </tr>\n",
       "  </thead>\n",
       "  <tbody>\n",
       "    <tr>\n",
       "      <th>Ctrl_error</th>\n",
       "      <td>10.16</td>\n",
       "      <td>9504</td>\n",
       "      <td>93502</td>\n",
       "    </tr>\n",
       "    <tr>\n",
       "      <th>Test_error</th>\n",
       "      <td>13.57</td>\n",
       "      <td>16194</td>\n",
       "      <td>119375</td>\n",
       "    </tr>\n",
       "  </tbody>\n",
       "</table>\n",
       "</div>"
      ],
      "text/plain": [
       "            error_rate  backward_steps  total_steps\n",
       "KPI                                                \n",
       "Ctrl_error       10.16            9504        93502\n",
       "Test_error       13.57           16194       119375"
      ]
     },
     "execution_count": 53,
     "metadata": {},
     "output_type": "execute_result"
    }
   ],
   "source": [
    "df_s"
   ]
  },
  {
   "cell_type": "code",
   "execution_count": 54,
   "id": "ad6b256c",
   "metadata": {},
   "outputs": [
    {
     "data": {
      "text/html": [
       "<div>\n",
       "<style scoped>\n",
       "    .dataframe tbody tr th:only-of-type {\n",
       "        vertical-align: middle;\n",
       "    }\n",
       "\n",
       "    .dataframe tbody tr th {\n",
       "        vertical-align: top;\n",
       "    }\n",
       "\n",
       "    .dataframe thead th {\n",
       "        text-align: right;\n",
       "    }\n",
       "</style>\n",
       "<table border=\"1\" class=\"dataframe\">\n",
       "  <thead>\n",
       "    <tr style=\"text-align: right;\">\n",
       "      <th></th>\n",
       "      <th>Transition</th>\n",
       "      <th>Control</th>\n",
       "      <th>Test</th>\n",
       "    </tr>\n",
       "  </thead>\n",
       "  <tbody>\n",
       "    <tr>\n",
       "      <th>0</th>\n",
       "      <td>start_to_step_1</td>\n",
       "      <td>64.306905</td>\n",
       "      <td>52.481851</td>\n",
       "    </tr>\n",
       "    <tr>\n",
       "      <th>1</th>\n",
       "      <td>step_1_to_step_2</td>\n",
       "      <td>50.576086</td>\n",
       "      <td>76.060627</td>\n",
       "    </tr>\n",
       "    <tr>\n",
       "      <th>2</th>\n",
       "      <td>step_2_to_step_3</td>\n",
       "      <td>110.146508</td>\n",
       "      <td>107.843462</td>\n",
       "    </tr>\n",
       "    <tr>\n",
       "      <th>3</th>\n",
       "      <td>step_3_to_confirm</td>\n",
       "      <td>168.500918</td>\n",
       "      <td>143.410847</td>\n",
       "    </tr>\n",
       "  </tbody>\n",
       "</table>\n",
       "</div>"
      ],
      "text/plain": [
       "          Transition     Control        Test\n",
       "0    start_to_step_1   64.306905   52.481851\n",
       "1   step_1_to_step_2   50.576086   76.060627\n",
       "2   step_2_to_step_3  110.146508  107.843462\n",
       "3  step_3_to_confirm  168.500918  143.410847"
      ]
     },
     "execution_count": 54,
     "metadata": {},
     "output_type": "execute_result"
    }
   ],
   "source": [
    "df_t"
   ]
  },
  {
   "cell_type": "code",
   "execution_count": null,
   "id": "f7871795",
   "metadata": {},
   "outputs": [],
   "source": []
  },
  {
   "cell_type": "code",
   "execution_count": null,
   "id": "c4b11937",
   "metadata": {},
   "outputs": [],
   "source": []
  }
 ],
 "metadata": {
  "kernelspec": {
   "display_name": "Python 3 (ipykernel)",
   "language": "python",
   "name": "python3"
  },
  "language_info": {
   "codemirror_mode": {
    "name": "ipython",
    "version": 3
   },
   "file_extension": ".py",
   "mimetype": "text/x-python",
   "name": "python",
   "nbconvert_exporter": "python",
   "pygments_lexer": "ipython3",
   "version": "3.11.7"
  }
 },
 "nbformat": 4,
 "nbformat_minor": 5
}
