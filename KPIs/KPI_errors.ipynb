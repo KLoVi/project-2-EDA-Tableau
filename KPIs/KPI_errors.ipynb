{
 "cells": [
  {
   "cell_type": "code",
   "execution_count": 1,
   "id": "d33f4d99-bb41-4196-8c1c-3d83892004ad",
   "metadata": {},
   "outputs": [],
   "source": [
    "import pandas as pd\n",
    "import matplotlib.pyplot as plt\n",
    "import seaborn as sns\n",
    "import numpy as np\n",
    "\n",
    "\n",
    "# Loading the housing price dataset (assuming the file name is \"housing_price.csv\")\n",
    "df = pd.read_csv('https://raw.githubusercontent.com/KLoVi/vanguard-ab-test/main/Datasets_cleaned/df_pt_1%262_ABC.csv')"
   ]
  },
  {
   "cell_type": "code",
   "execution_count": 2,
   "id": "213c3bcd-1f17-4f17-9587-2f183d92fe8c",
   "metadata": {
    "scrolled": true
   },
   "outputs": [
    {
     "data": {
      "text/plain": [
       "client_id        50500\n",
       "visitor_id       56011\n",
       "visit_id         69205\n",
       "process_step         5\n",
       "date_time       283344\n",
       "year                 1\n",
       "month                4\n",
       "day                 31\n",
       "time             69704\n",
       "Variation            2\n",
       "dtype: int64"
      ]
     },
     "execution_count": 2,
     "metadata": {},
     "output_type": "execute_result"
    }
   ],
   "source": [
    "df.head(5)\n",
    "df.drop(columns = [\"Unnamed: 0\"], inplace = True)\n",
    "df.nunique()"
   ]
  },
  {
   "cell_type": "code",
   "execution_count": null,
   "id": "c32047c2",
   "metadata": {},
   "outputs": [],
   "source": []
  },
  {
   "cell_type": "code",
   "execution_count": null,
   "id": "4ffac0ac",
   "metadata": {},
   "outputs": [],
   "source": []
  },
  {
   "cell_type": "code",
   "execution_count": null,
   "id": "adf595d4",
   "metadata": {},
   "outputs": [],
   "source": []
  },
  {
   "cell_type": "code",
   "execution_count": 29,
   "id": "f887cef7-4109-4b8a-b80c-de12c244bcfc",
   "metadata": {},
   "outputs": [
    {
     "name": "stdout",
     "output_type": "stream",
     "text": [
      "Error rates by Variation:\n",
      "  Variation  total_steps  backward_steps  error_rate\n",
      "0   Control        93502            9504    0.101645\n",
      "1      Test       119375           16194    0.135657\n"
     ]
    }
   ],
   "source": [
    "# Convert date_time to datetime format\n",
    "df['date_time'] = pd.to_datetime(df['date_time'])\n",
    "\n",
    "# Define the correct order of steps\n",
    "step_order = ['start', 'step_1', 'step_2', 'step_3', 'confirm']\n",
    "step_map = {step: idx for idx, step in enumerate(step_order)}\n",
    "\n",
    "# Ensure we only consider rows with steps in the correct order\n",
    "df = df[df['process_step'].isin(step_order)]\n",
    "\n",
    "# Sort DataFrame by visit_id, Variation, and date_time\n",
    "df.sort_values(by=['visit_id', 'Variation', 'date_time'], inplace=True)\n",
    "\n",
    "# Filter out visit_id which only have 'confirm' step and at least one 'start' step\n",
    "valid_visits = df.groupby('visit_id').filter(lambda x: 'start' in x['process_step'].values and len(x['process_step'].values) > 1)\n",
    "\n",
    "# Calculate backward steps and total steps\n",
    "def calculate_steps(group):\n",
    "    total_steps = 0\n",
    "    backward_steps = 0\n",
    "    \n",
    "    steps = group['process_step'].values\n",
    "    for i in range(1, len(steps)):\n",
    "        if steps[i] != steps[i-1]:\n",
    "            total_steps += 1\n",
    "            if step_map[steps[i]] < step_map[steps[i-1]]:\n",
    "                backward_steps += 1\n",
    "    \n",
    "    return total_steps, backward_steps\n",
    "\n",
    "# Apply the function to each group of Variation and visit_id\n",
    "results = valid_visits.groupby(['Variation', 'visit_id']).apply(calculate_steps).reset_index(name='steps')\n",
    "\n",
    "# Split the total_steps and backward_steps into separate columns\n",
    "results[['total_steps', 'backward_steps']] = pd.DataFrame(results['steps'].tolist(), index=results.index)\n",
    "\n",
    "# Sum the total steps and backward steps for each Variation\n",
    "total_steps_by_variation = results.groupby('Variation')['total_steps'].sum().reset_index(name='total_steps')\n",
    "backward_steps_by_variation = results.groupby('Variation')['backward_steps'].sum().reset_index(name='backward_steps')\n",
    "\n",
    "# Merge the two DataFrames\n",
    "merged_results = pd.merge(total_steps_by_variation, backward_steps_by_variation, on='Variation')\n",
    "\n",
    "# Calculate the error rates\n",
    "merged_results['error_rate'] = merged_results['backward_steps'] / merged_results['total_steps']\n",
    "\n",
    "# Output the results\n",
    "print(\"Error rates by Variation:\")\n",
    "print(merged_results)\n"
   ]
  },
  {
   "cell_type": "code",
   "execution_count": null,
   "id": "2eb61e7e-5a43-45fe-9176-9a92b871bcbe",
   "metadata": {},
   "outputs": [],
   "source": []
  },
  {
   "cell_type": "code",
   "execution_count": null,
   "id": "04eca0e0",
   "metadata": {},
   "outputs": [],
   "source": [
    "# STEP BY STEP"
   ]
  },
  {
   "cell_type": "code",
   "execution_count": 3,
   "id": "3ddc96bf",
   "metadata": {},
   "outputs": [
    {
     "name": "stdout",
     "output_type": "stream",
     "text": [
      "Total number of backward steps for all visit_id: 25805\n"
     ]
    }
   ],
   "source": [
    "\n",
    "# Ensure 'Variation' column exists\n",
    "if 'Variation' not in df.columns:\n",
    "    raise KeyError(\"'Variation' column not found in the DataFrame.\")\n",
    "\n",
    "# Convert date_time to datetime format\n",
    "df['date_time'] = pd.to_datetime(df['date_time'])\n",
    "\n",
    "# Define the correct order of steps\n",
    "step_order = ['start', 'step_1', 'step_2', 'step_3', 'confirm']\n",
    "step_map = {step: idx for idx, step in enumerate(step_order)}\n",
    "\n",
    "# Ensure we only consider rows with steps in the correct order\n",
    "df = df[df['process_step'].isin(step_order)]\n",
    "\n",
    "# Sort DataFrame by visit_id, Variation, and date_time\n",
    "df.sort_values(by=['visit_id', 'Variation', 'date_time'], inplace=True)\n",
    "\n",
    "# Filter out visit_id which only have 'confirm' step and at least one 'start' step\n",
    "valid_visits = df.groupby('visit_id').filter(lambda x: 'start' in x['process_step'].values and len(x['process_step'].values) > 1)\n",
    "\n",
    "# Calculate backward steps\n",
    "def calculate_backward_steps(group):\n",
    "    backward_steps = 0\n",
    "    steps = group['process_step'].values\n",
    "    \n",
    "    for i in range(1, len(steps)):\n",
    "        if steps[i] != steps[i-1] and step_map[steps[i]] < step_map[steps[i-1]]:\n",
    "            backward_steps += 1\n",
    "    \n",
    "    return backward_steps\n",
    "\n",
    "# Apply the function to each group of visit_id\n",
    "backward_steps = valid_visits.groupby('visit_id').apply(calculate_backward_steps).reset_index(name='backward_steps')\n",
    "\n",
    "# Sum the total number of backward steps\n",
    "total_backward_steps = backward_steps['backward_steps'].sum()\n",
    "\n",
    "# Output the total number of backward steps\n",
    "print(f\"Total number of backward steps for all visit_id: {total_backward_steps}\")\n"
   ]
  },
  {
   "cell_type": "code",
   "execution_count": null,
   "id": "12a1a2c2",
   "metadata": {},
   "outputs": [],
   "source": [
    "# Convert date_time to datetime format\n",
    "df['date_time'] = pd.to_datetime(df['date_time'])\n",
    "\n",
    "# Define the correct order of steps\n",
    "step_order = ['start', 'step_1', 'step_2', 'step_3', 'confirm']\n",
    "step_map = {step: idx for idx, step in enumerate(step_order)}\n",
    "\n",
    "# Ensure we only consider rows with steps in the correct order\n",
    "df = df[df['process_step'].isin(step_order)]\n",
    "\n",
    "# Sort DataFrame by visit_id, Variation, and date_time\n",
    "df.sort_values(by=['visit_id', 'Variation', 'date_time'], inplace=True)\n",
    "\n",
    "# Filter out visit_id which only have 'confirm' step and at least one 'start' step\n",
    "valid_visits = df.groupby('visit_id').filter(lambda x: 'start' in x['process_step'].values and len(x['process_step'].values) > 1)\n",
    "\n",
    "# Calculate backward steps\n",
    "def calculate_backward_steps(group):\n",
    "    backward_steps = 0\n",
    "    steps = group['process_step'].values\n",
    "    \n",
    "    for i in range(1, len(steps)):\n",
    "        if steps[i] != steps[i-1] and step_map[steps[i]] < step_map[steps[i-1]]:\n",
    "            backward_steps += 1\n",
    "    \n",
    "    return backward_steps\n",
    "\n",
    "# Apply the function to each group of visit_id and Variation\n",
    "backward_steps = valid_visits.groupby(['Variation', 'visit_id']).apply(calculate_backward_steps).reset_index(name='backward_steps')\n",
    "\n",
    "# Sum the total number of backward steps for each Variation\n",
    "total_backward_steps_by_variation = backward_steps.groupby('Variation')['backward_steps'].sum().reset_index()\n",
    "\n",
    "# Output the total number of backward steps for each Variation\n",
    "print(\"Total number of backward steps by Variation:\")\n",
    "print(total_backward_steps_by_variation)"
   ]
  },
  {
   "cell_type": "code",
   "execution_count": null,
   "id": "1bf5f3e8",
   "metadata": {},
   "outputs": [],
   "source": []
  }
 ],
 "metadata": {
  "kernelspec": {
   "display_name": "Python 3 (ipykernel)",
   "language": "python",
   "name": "python3"
  },
  "language_info": {
   "codemirror_mode": {
    "name": "ipython",
    "version": 3
   },
   "file_extension": ".py",
   "mimetype": "text/x-python",
   "name": "python",
   "nbconvert_exporter": "python",
   "pygments_lexer": "ipython3",
   "version": "3.11.7"
  }
 },
 "nbformat": 4,
 "nbformat_minor": 5
}
