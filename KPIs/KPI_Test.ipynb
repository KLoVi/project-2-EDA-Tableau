{
 "cells": [
  {
   "cell_type": "code",
   "execution_count": 1,
   "id": "8a2d3711",
   "metadata": {},
   "outputs": [],
   "source": [
    "import pandas as pd\n",
    "import matplotlib.pyplot as plt\n",
    "import seaborn as sns\n",
    "import numpy as np\n",
    "\n",
    "pd.set_option('display.max_rows', 500)\n",
    "\n",
    "%matplotlib inline "
   ]
  },
  {
   "cell_type": "code",
   "execution_count": 7,
   "id": "dc4f83b1",
   "metadata": {},
   "outputs": [],
   "source": [
    "url = \"https://raw.githubusercontent.com/KLoVi/vanguard-ab-test/main/Datasets_cleaned/df_pt_1%262_ABC.csv\""
   ]
  },
  {
   "cell_type": "code",
   "execution_count": 8,
   "id": "14b51dcc",
   "metadata": {},
   "outputs": [],
   "source": [
    "dt = pd.read_csv(url)"
   ]
  },
  {
   "cell_type": "code",
   "execution_count": 9,
   "id": "fb0770b4",
   "metadata": {},
   "outputs": [
    {
     "data": {
      "text/plain": [
       "(317235, 11)"
      ]
     },
     "execution_count": 9,
     "metadata": {},
     "output_type": "execute_result"
    }
   ],
   "source": [
    "dt.shape #(rows:317235, columns:12)"
   ]
  },
  {
   "cell_type": "code",
   "execution_count": 11,
   "id": "35d85d18",
   "metadata": {},
   "outputs": [],
   "source": [
    "dt = dt[dt[\"Variation\"] != \"Control\"] #Data Frame only for TEST GROUP"
   ]
  },
  {
   "cell_type": "code",
   "execution_count": 13,
   "id": "371e6974",
   "metadata": {},
   "outputs": [
    {
     "data": {
      "text/plain": [
       "(176699, 11)"
      ]
     },
     "execution_count": 13,
     "metadata": {},
     "output_type": "execute_result"
    }
   ],
   "source": [
    "dt.shape #(rows: 176699, columns:11)"
   ]
  },
  {
   "cell_type": "code",
   "execution_count": null,
   "id": "0ea17089",
   "metadata": {},
   "outputs": [],
   "source": []
  }
 ],
 "metadata": {
  "kernelspec": {
   "display_name": "Python 3 (ipykernel)",
   "language": "python",
   "name": "python3"
  },
  "language_info": {
   "codemirror_mode": {
    "name": "ipython",
    "version": 3
   },
   "file_extension": ".py",
   "mimetype": "text/x-python",
   "name": "python",
   "nbconvert_exporter": "python",
   "pygments_lexer": "ipython3",
   "version": "3.11.7"
  }
 },
 "nbformat": 4,
 "nbformat_minor": 5
}
