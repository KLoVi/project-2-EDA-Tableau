{
 "cells": [
  {
   "cell_type": "code",
   "execution_count": 11,
   "id": "8a2d3711",
   "metadata": {},
   "outputs": [],
   "source": [
    "import pandas as pd\n",
    "import matplotlib.pyplot as plt\n",
    "import seaborn as sns\n",
    "import numpy as np\n",
    "\n",
    "pd.set_option('display.max_rows', 500)\n",
    "\n",
    "%matplotlib inline "
   ]
  },
  {
   "cell_type": "code",
   "execution_count": 12,
   "id": "dc4f83b1",
   "metadata": {},
   "outputs": [],
   "source": [
    "url = \"https://raw.githubusercontent.com/KLoVi/vanguard-ab-test/main/Datasets_cleaned/df_pt_1%262_ABC.csv\""
   ]
  },
  {
   "cell_type": "code",
   "execution_count": 13,
   "id": "14b51dcc",
   "metadata": {},
   "outputs": [],
   "source": [
    "df = pd.read_csv(url)"
   ]
  },
  {
   "cell_type": "code",
   "execution_count": 14,
   "id": "eee77dc7",
   "metadata": {
    "scrolled": true
   },
   "outputs": [],
   "source": [
    "df.drop(columns = ['Unnamed: 0'], inplace = True)"
   ]
  },
  {
   "cell_type": "code",
   "execution_count": 15,
   "id": "fb0770b4",
   "metadata": {
    "scrolled": true
   },
   "outputs": [
    {
     "data": {
      "text/plain": [
       "(317235, 10)"
      ]
     },
     "execution_count": 15,
     "metadata": {},
     "output_type": "execute_result"
    }
   ],
   "source": [
    "df.shape #(744641, 10)"
   ]
  },
  {
   "cell_type": "code",
   "execution_count": 16,
   "id": "98594ebb",
   "metadata": {},
   "outputs": [],
   "source": [
    "df = df.sort_values(by=['visit_id', 'time'])"
   ]
  },
  {
   "cell_type": "code",
   "execution_count": 17,
   "id": "96d6d745",
   "metadata": {},
   "outputs": [
    {
     "name": "stdout",
     "output_type": "stream",
     "text": [
      "<class 'pandas.core.frame.DataFrame'>\n",
      "Index: 317235 entries, 106314 to 95169\n",
      "Data columns (total 10 columns):\n",
      " #   Column        Non-Null Count   Dtype \n",
      "---  ------        --------------   ----- \n",
      " 0   client_id     317235 non-null  int64 \n",
      " 1   visitor_id    317235 non-null  object\n",
      " 2   visit_id      317235 non-null  object\n",
      " 3   process_step  317235 non-null  object\n",
      " 4   date_time     317235 non-null  object\n",
      " 5   year          317235 non-null  int64 \n",
      " 6   month         317235 non-null  int64 \n",
      " 7   day           317235 non-null  int64 \n",
      " 8   time          317235 non-null  object\n",
      " 9   Variation     317235 non-null  object\n",
      "dtypes: int64(4), object(6)\n",
      "memory usage: 26.6+ MB\n"
     ]
    }
   ],
   "source": [
    "df.info()"
   ]
  },
  {
   "cell_type": "code",
   "execution_count": 18,
   "id": "d1524bec",
   "metadata": {},
   "outputs": [],
   "source": [
    "df['date_time'] = pd.to_datetime(df['date_time'])"
   ]
  },
  {
   "cell_type": "code",
   "execution_count": 19,
   "id": "700db6be",
   "metadata": {
    "scrolled": true
   },
   "outputs": [
    {
     "name": "stdout",
     "output_type": "stream",
     "text": [
      "<class 'pandas.core.frame.DataFrame'>\n",
      "Index: 317235 entries, 106314 to 95169\n",
      "Data columns (total 10 columns):\n",
      " #   Column        Non-Null Count   Dtype         \n",
      "---  ------        --------------   -----         \n",
      " 0   client_id     317235 non-null  int64         \n",
      " 1   visitor_id    317235 non-null  object        \n",
      " 2   visit_id      317235 non-null  object        \n",
      " 3   process_step  317235 non-null  object        \n",
      " 4   date_time     317235 non-null  datetime64[ns]\n",
      " 5   year          317235 non-null  int64         \n",
      " 6   month         317235 non-null  int64         \n",
      " 7   day           317235 non-null  int64         \n",
      " 8   time          317235 non-null  object        \n",
      " 9   Variation     317235 non-null  object        \n",
      "dtypes: datetime64[ns](1), int64(4), object(5)\n",
      "memory usage: 26.6+ MB\n"
     ]
    }
   ],
   "source": [
    "df.info()"
   ]
  },
  {
   "cell_type": "code",
   "execution_count": null,
   "id": "8805df7b",
   "metadata": {},
   "outputs": [],
   "source": []
  },
  {
   "cell_type": "code",
   "execution_count": null,
   "id": "71e67126",
   "metadata": {},
   "outputs": [],
   "source": []
  },
  {
   "cell_type": "code",
   "execution_count": 37,
   "id": "bae7b2b8",
   "metadata": {},
   "outputs": [
    {
     "name": "stdout",
     "output_type": "stream",
     "text": [
      "Average Time per Step for Test Group:\n",
      "  process_step        average_time_spent\n",
      "0      confirm 3 days 03:07:17.030166591\n",
      "1        start 0 days 18:27:27.297608593\n",
      "2       step_1 0 days 07:59:05.278614169\n",
      "3       step_2 0 days 03:30:18.822914592\n",
      "4       step_3 0 days 05:44:38.760251336\n",
      "\n",
      "Average Time per Step for Control Group:\n",
      "  process_step        average_time_spent\n",
      "0      confirm 3 days 02:45:06.880217785\n",
      "1        start 0 days 23:09:07.224562684\n",
      "2       step_1 0 days 10:51:19.034366426\n",
      "3       step_2 0 days 05:14:02.006167116\n",
      "4       step_3 0 days 10:47:11.264832535\n"
     ]
    }
   ],
   "source": [
    "df['date_time'] = pd.to_datetime(df['date_time'])\n",
    "\n",
    "# Ensure the DataFrame is sorted by visitor_id and timestamp\n",
    "df = df.sort_values(by=['visitor_id', 'date_time'])\n",
    "\n",
    "# Calculate the time difference between each step for each visitor\n",
    "df['time_diff'] = df.groupby('visitor_id')['date_time'].diff()\n",
    "\n",
    "# Assign the time_diff to the respective step (we shift -1 to assign the difference to the correct step)\n",
    "df['time_spent_on_step'] = df.groupby('visitor_id')['time_diff'].shift(-1)\n",
    "\n",
    "# Calculate the average time spent on each step\n",
    "average_time_per_step = df.groupby('process_step')['time_spent_on_step'].mean()\n",
    "\n",
    "# Separate into Test and Control groups\n",
    "test_group = df[df['Variation'] == 'Test']\n",
    "control_group = df[df['Variation'] == 'Control']\n",
    "# Calculate the average time spent on each step for Test group\n",
    "average_time_per_step_test = test_group.groupby('process_step')['time_spent_on_step'].mean().reset_index()\n",
    "average_time_per_step_test.rename(columns={'time_spent_on_step': 'average_time_spent'}, inplace=True)\n",
    "# Calculate the average time spent on each step for Control group\n",
    "average_time_per_step_control = control_group.groupby('process_step')['time_spent_on_step'].mean().reset_index()\n",
    "average_time_per_step_control.rename(columns={'time_spent_on_step': 'average_time_spent'}, inplace=True)\n",
    "# Display results\n",
    "print(\"Average Time per Step for Test Group:\")\n",
    "print(average_time_per_step_test)\n",
    "print(\"\\nAverage Time per Step for Control Group:\")\n",
    "print(average_time_per_step_control)\n",
    "\n"
   ]
  },
  {
   "cell_type": "code",
   "execution_count": 31,
   "id": "f81e4f92",
   "metadata": {},
   "outputs": [
    {
     "data": {
      "text/plain": [
       "process_step\n",
       "confirm   3 days 02:59:55.915136924\n",
       "start     0 days 20:31:10.794597256\n",
       "step_1    0 days 09:12:09.887294920\n",
       "step_2    0 days 04:17:08.638797386\n",
       "step_3    0 days 08:03:53.653460767\n",
       "Name: time_spent_on_step, dtype: timedelta64[ns]"
      ]
     },
     "execution_count": 31,
     "metadata": {},
     "output_type": "execute_result"
    }
   ],
   "source": [
    "average_time_per_step"
   ]
  },
  {
   "cell_type": "code",
   "execution_count": null,
   "id": "b48578fd",
   "metadata": {},
   "outputs": [],
   "source": []
  },
  {
   "cell_type": "code",
   "execution_count": null,
   "id": "a2fe36ea",
   "metadata": {},
   "outputs": [],
   "source": [
    "# CHAT GPT:"
   ]
  },
  {
   "cell_type": "code",
   "execution_count": null,
   "id": "eca1eb64",
   "metadata": {},
   "outputs": [],
   "source": [
    "# Sample DataFrame creation (replace with your actual DataFrame)\n",
    "url = \"https://raw.githubusercontent.com/KLoVi/vanguard-ab-test/main/Datasets_cleaned/df_pt_1%262_ABC.csv\"\n",
    "df = pd.read_csv(url)\n",
    "\n",
    "df['time_stamp'] = pd.to_datetime(df['time_stamp'])\n",
    "\n",
    "# Ensure the DataFrame is sorted by visitor_id and timestamp\n",
    "df = df.sort_values(by=['visitor_id', 'time_stamp'])\n",
    "# Calculate the time difference between each step for each visitor\n",
    "df['time_diff'] = df.groupby('visitor_id')['time_stamp'].diff()\n",
    "# Assign the time_diff to the respective step (we shift -1 to assign the difference to the correct step)\n",
    "df['time_spent_on_step'] = df.groupby('visitor_id')['time_diff'].shift(-1)\n",
    "# Calculate the average time spent on each step\n",
    "average_time_per_step = df.groupby('process_step')['time_spent_on_step'].mean()\n",
    "\n"
   ]
  },
  {
   "cell_type": "code",
   "execution_count": null,
   "id": "95ed734d",
   "metadata": {},
   "outputs": [],
   "source": [
    "df['timestamp'] = pd.to_datetime(df['timestamp'])\n",
    "# Ensure the DataFrame is sorted by visitor_id and timestamp\n",
    "df = df.sort_values(by=['visitor_id', 'timestamp'])\n",
    "# Calculate the time difference between each step for each visitor\n",
    "df['time_diff'] = df.groupby('visitor_id')['timestamp'].diff()\n",
    "# Assign the time_diff to the respective step (we shift -1 to assign the difference to the correct step)\n",
    "df['time_spent_on_step'] = df.groupby('visitor_id')['time_diff'].shift(-1)\n",
    "# Separate into Test and Control groups\n",
    "test_group = df[df['Variation'] == 'Test']\n",
    "control_group = df[df['Variation'] == 'Control']\n",
    "# Calculate the average time spent on each step for Test group\n",
    "average_time_per_step_test = test_group.groupby('process_step')['time_spent_on_step'].mean().reset_index()\n",
    "average_time_per_step_test.rename(columns={'time_spent_on_step': 'average_time_spent'}, inplace=True)\n",
    "# Calculate the average time spent on each step for Control group\n",
    "average_time_per_step_control = control_group.groupby('process_step')['time_spent_on_step'].mean().reset_index()\n",
    "average_time_per_step_control.rename(columns={'time_spent_on_step': 'average_time_spent'}, inplace=True)\n",
    "# Display results\n",
    "print(\"Average Time per Step for Test Group:\")\n",
    "print(average_time_per_step_test)\n",
    "print(\"\\nAverage Time per Step for Control Group:\")\n",
    "print(average_time_per_step_control)\n",
    "\n"
   ]
  },
  {
   "cell_type": "code",
   "execution_count": null,
   "id": "59781a9a",
   "metadata": {},
   "outputs": [],
   "source": []
  },
  {
   "cell_type": "code",
   "execution_count": null,
   "id": "2b25354f",
   "metadata": {},
   "outputs": [],
   "source": []
  },
  {
   "cell_type": "code",
   "execution_count": null,
   "id": "63dd5634",
   "metadata": {},
   "outputs": [],
   "source": []
  }
 ],
 "metadata": {
  "kernelspec": {
   "display_name": "Python 3 (ipykernel)",
   "language": "python",
   "name": "python3"
  },
  "language_info": {
   "codemirror_mode": {
    "name": "ipython",
    "version": 3
   },
   "file_extension": ".py",
   "mimetype": "text/x-python",
   "name": "python",
   "nbconvert_exporter": "python",
   "pygments_lexer": "ipython3",
   "version": "3.11.7"
  }
 },
 "nbformat": 4,
 "nbformat_minor": 5
}
