{
 "cells": [
  {
   "cell_type": "code",
   "execution_count": 1,
   "id": "1805d346",
   "metadata": {},
   "outputs": [],
   "source": [
    "import pandas as pd"
   ]
  },
  {
   "cell_type": "code",
   "execution_count": 2,
   "id": "8cf2dbc5",
   "metadata": {},
   "outputs": [],
   "source": [
    "df = pd.read_csv(\"https://raw.githubusercontent.com/KLoVi/vanguard-ab-test/main/Datasets_cleaned/df_pt1%262_merged.csv\")"
   ]
  },
  {
   "cell_type": "code",
   "execution_count": 3,
   "id": "3f442b20",
   "metadata": {
    "scrolled": true
   },
   "outputs": [
    {
     "name": "stdout",
     "output_type": "stream",
     "text": [
      "<class 'pandas.core.frame.DataFrame'>\n",
      "RangeIndex: 744641 entries, 0 to 744640\n",
      "Data columns (total 10 columns):\n",
      " #   Column        Non-Null Count   Dtype \n",
      "---  ------        --------------   ----- \n",
      " 0   Unnamed: 0    744641 non-null  int64 \n",
      " 1   client_id     744641 non-null  int64 \n",
      " 2   visitor_id    744641 non-null  object\n",
      " 3   visit_id      744641 non-null  object\n",
      " 4   process_step  744641 non-null  object\n",
      " 5   date_time     744641 non-null  object\n",
      " 6   year          744641 non-null  int64 \n",
      " 7   month         744641 non-null  int64 \n",
      " 8   day           744641 non-null  int64 \n",
      " 9   time          744641 non-null  object\n",
      "dtypes: int64(5), object(5)\n",
      "memory usage: 56.8+ MB\n"
     ]
    }
   ],
   "source": [
    "df.info()\n",
    "# Guardó los cambios de limpieza de filas, pero no de date_time format: df_pt1&2_merged.csv"
   ]
  },
  {
   "cell_type": "code",
   "execution_count": null,
   "id": "e0781143",
   "metadata": {},
   "outputs": [],
   "source": [
    "# Guardó los cambios de limpieza de filas, df_final_clients.csv"
   ]
  },
  {
   "cell_type": "code",
   "execution_count": 4,
   "id": "653b4293",
   "metadata": {},
   "outputs": [],
   "source": [
    "d_clientes = pd.read_csv(\"https://raw.githubusercontent.com/KLoVi/vanguard-ab-test/main/Datasets_cleaned/df_final_clients.csv\")"
   ]
  },
  {
   "cell_type": "code",
   "execution_count": 5,
   "id": "0a16e420",
   "metadata": {},
   "outputs": [
    {
     "name": "stdout",
     "output_type": "stream",
     "text": [
      "<class 'pandas.core.frame.DataFrame'>\n",
      "RangeIndex: 50500 entries, 0 to 50499\n",
      "Data columns (total 3 columns):\n",
      " #   Column      Non-Null Count  Dtype \n",
      "---  ------      --------------  ----- \n",
      " 0   Unnamed: 0  50500 non-null  int64 \n",
      " 1   client_id   50500 non-null  int64 \n",
      " 2   Variation   50500 non-null  object\n",
      "dtypes: int64(2), object(1)\n",
      "memory usage: 1.2+ MB\n"
     ]
    }
   ],
   "source": [
    "d_clientes.info()"
   ]
  },
  {
   "cell_type": "code",
   "execution_count": null,
   "id": "92cb174d",
   "metadata": {},
   "outputs": [],
   "source": [
    "# Guardó los cambios de limpieza de filas, df_final_clients.csv"
   ]
  },
  {
   "cell_type": "code",
   "execution_count": null,
   "id": "e44b833e",
   "metadata": {},
   "outputs": [],
   "source": [
    "d_demo = pd.read_csv(\"https://raw.githubusercontent.com/KLoVi/vanguard-ab-test/main/Datasets_cleaned/df_final_clients.csv\")"
   ]
  },
  {
   "cell_type": "code",
   "execution_count": null,
   "id": "d9b74684",
   "metadata": {},
   "outputs": [],
   "source": []
  }
 ],
 "metadata": {
  "kernelspec": {
   "display_name": "Python 3 (ipykernel)",
   "language": "python",
   "name": "python3"
  },
  "language_info": {
   "codemirror_mode": {
    "name": "ipython",
    "version": 3
   },
   "file_extension": ".py",
   "mimetype": "text/x-python",
   "name": "python",
   "nbconvert_exporter": "python",
   "pygments_lexer": "ipython3",
   "version": "3.11.7"
  }
 },
 "nbformat": 4,
 "nbformat_minor": 5
}
