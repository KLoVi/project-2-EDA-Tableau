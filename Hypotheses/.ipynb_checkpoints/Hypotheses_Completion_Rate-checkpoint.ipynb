{
 "cells": [
  {
   "cell_type": "code",
   "execution_count": 11,
   "id": "de1bbd04",
   "metadata": {},
   "outputs": [],
   "source": [
    "#libraries\n",
    "import pandas as pd\n",
    "import scipy.stats as st\n",
    "import numpy as np"
   ]
  },
  {
   "cell_type": "code",
   "execution_count": 12,
   "id": "fa5a34aa",
   "metadata": {},
   "outputs": [],
   "source": [
    "# Control"
   ]
  },
  {
   "cell_type": "code",
   "execution_count": 13,
   "id": "80a5f4fc",
   "metadata": {},
   "outputs": [],
   "source": [
    "total_confirm_t = 17862\n",
    "total_users_t = 33158\n",
    "completion_test = round((total_confirm_t/total_users_t)*100,2)"
   ]
  },
  {
   "cell_type": "code",
   "execution_count": 14,
   "id": "d38c5790",
   "metadata": {},
   "outputs": [
    {
     "data": {
      "text/plain": [
       "53.87"
      ]
     },
     "execution_count": 14,
     "metadata": {},
     "output_type": "execute_result"
    }
   ],
   "source": [
    "completion_test"
   ]
  },
  {
   "cell_type": "code",
   "execution_count": 15,
   "id": "8f52c287",
   "metadata": {},
   "outputs": [],
   "source": [
    "# Test"
   ]
  },
  {
   "cell_type": "code",
   "execution_count": 16,
   "id": "cb9eee60",
   "metadata": {},
   "outputs": [],
   "source": [
    "total_confirm_c = 14833\n",
    "total_users_c = 30911\n",
    "completion_ctrl = round((total_confirm_c/total_users_c)*100,2)"
   ]
  },
  {
   "cell_type": "code",
   "execution_count": 17,
   "id": "f425e94d",
   "metadata": {},
   "outputs": [
    {
     "data": {
      "text/plain": [
       "47.99"
      ]
     },
     "execution_count": 17,
     "metadata": {},
     "output_type": "execute_result"
    }
   ],
   "source": [
    "completion_ctrl"
   ]
  },
  {
   "cell_type": "code",
   "execution_count": 9,
   "id": "71e04cb8",
   "metadata": {},
   "outputs": [],
   "source": [
    "#Set the hypothesis\n",
    "\n",
    "#H0: completion_test =< completion_ctrl\n",
    "#H1: completion_test > completion_ctrl \n",
    "\n",
    "#significance level = 0.05"
   ]
  },
  {
   "cell_type": "code",
   "execution_count": 18,
   "id": "79372d11",
   "metadata": {},
   "outputs": [
    {
     "data": {
      "text/plain": [
       "TtestResult(statistic=nan, pvalue=nan, df=1.0)"
      ]
     },
     "execution_count": 18,
     "metadata": {},
     "output_type": "execute_result"
    }
   ],
   "source": [
    "st.ttest_ind(completion_test, completion_ctrl, equal_var=False, alternative = \"greater\")"
   ]
  },
  {
   "cell_type": "code",
   "execution_count": 10,
   "id": "f8d3718d",
   "metadata": {},
   "outputs": [
    {
     "name": "stdout",
     "output_type": "stream",
     "text": [
      "Z-statistic: 14.885471159380078\n",
      "P-value: 4.0959085234194337e-50\n",
      "Reject the null hypothesis: There is a statistically significant difference between the completion rates.\n"
     ]
    }
   ],
   "source": [
    "import numpy as np\n",
    "from statsmodels.stats.proportion import proportions_ztest\n",
    "\n",
    "# Data for the Test and Control groups\n",
    "completions_test = 17862\n",
    "total_test = 33158\n",
    "completions_control = 14833\n",
    "total_control = 30911\n",
    "\n",
    "# Calculate the proportions\n",
    "prop_test = completions_test / total_test\n",
    "prop_control = completions_control / total_control\n",
    "\n",
    "# Number of successes (completions) in each group\n",
    "counts = np.array([completions_test, completions_control])\n",
    "\n",
    "# Number of observations (participants) in each group\n",
    "nobs = np.array([total_test, total_control])\n",
    "\n",
    "# Perform the two-proportion z-test\n",
    "stat, p_value = proportions_ztest(counts, nobs)\n",
    "\n",
    "# Output the results\n",
    "print(f\"Z-statistic: {stat}\")\n",
    "print(f\"P-value: {p_value}\")\n",
    "\n",
    "# Determine significance\n",
    "alpha = 0.05\n",
    "if p_value < alpha:\n",
    "    print(\"Reject the null hypothesis: There is a statistically significant difference between the completion rates.\")\n",
    "else:\n",
    "    print(\"Fail to reject the null hypothesis: There is no statistically significant difference between the completion rates.\")\n"
   ]
  },
  {
   "cell_type": "code",
   "execution_count": null,
   "id": "5148e955",
   "metadata": {},
   "outputs": [],
   "source": []
  }
 ],
 "metadata": {
  "kernelspec": {
   "display_name": "Python 3 (ipykernel)",
   "language": "python",
   "name": "python3"
  },
  "language_info": {
   "codemirror_mode": {
    "name": "ipython",
    "version": 3
   },
   "file_extension": ".py",
   "mimetype": "text/x-python",
   "name": "python",
   "nbconvert_exporter": "python",
   "pygments_lexer": "ipython3",
   "version": "3.11.7"
  }
 },
 "nbformat": 4,
 "nbformat_minor": 5
}
