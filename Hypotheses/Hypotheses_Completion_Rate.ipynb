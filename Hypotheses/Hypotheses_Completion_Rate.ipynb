{
 "cells": [
  {
   "cell_type": "code",
   "execution_count": 2,
   "id": "de1bbd04",
   "metadata": {},
   "outputs": [],
   "source": [
    "#libraries\n",
    "import pandas as pd\n",
    "import scipy.stats as st\n",
    "import numpy as np"
   ]
  },
  {
   "cell_type": "code",
   "execution_count": 3,
   "id": "fa5a34aa",
   "metadata": {},
   "outputs": [],
   "source": [
    "# Control"
   ]
  },
  {
   "cell_type": "code",
   "execution_count": 4,
   "id": "80a5f4fc",
   "metadata": {},
   "outputs": [],
   "source": [
    "total_confirm_t = 17862\n",
    "total_users_t = 33158\n",
    "completion_test = round((total_confirm_t/total_users_t)*100,2)"
   ]
  },
  {
   "cell_type": "code",
   "execution_count": 5,
   "id": "d38c5790",
   "metadata": {},
   "outputs": [
    {
     "data": {
      "text/plain": [
       "53.87"
      ]
     },
     "execution_count": 5,
     "metadata": {},
     "output_type": "execute_result"
    }
   ],
   "source": [
    "completion_test"
   ]
  },
  {
   "cell_type": "code",
   "execution_count": 6,
   "id": "8f52c287",
   "metadata": {},
   "outputs": [],
   "source": [
    "# Test"
   ]
  },
  {
   "cell_type": "code",
   "execution_count": 7,
   "id": "cb9eee60",
   "metadata": {},
   "outputs": [],
   "source": [
    "total_confirm_c = 14833\n",
    "total_users_c = 30911\n",
    "completion_ctrl = round((total_confirm_c/total_users_c)*100,2)"
   ]
  },
  {
   "cell_type": "code",
   "execution_count": 8,
   "id": "f425e94d",
   "metadata": {},
   "outputs": [
    {
     "data": {
      "text/plain": [
       "47.99"
      ]
     },
     "execution_count": 8,
     "metadata": {},
     "output_type": "execute_result"
    }
   ],
   "source": [
    "completion_ctrl"
   ]
  },
  {
   "cell_type": "code",
   "execution_count": 9,
   "id": "8c17bc83",
   "metadata": {},
   "outputs": [
    {
     "data": {
      "text/plain": [
       "5.8799999999999955"
      ]
     },
     "execution_count": 9,
     "metadata": {},
     "output_type": "execute_result"
    }
   ],
   "source": [
    "diff = completion_test - completion_ctrl\n",
    "diff"
   ]
  },
  {
   "cell_type": "code",
   "execution_count": 9,
   "id": "71e04cb8",
   "metadata": {},
   "outputs": [],
   "source": [
    "#Set the hypothesis\n",
    "\n",
    "#H0: completion_test = completion_ctrl\n",
    "#H1: completion_test =! completion_ctrl \n",
    "\n",
    "#significance level = 0.05"
   ]
  },
  {
   "cell_type": "code",
   "execution_count": 12,
   "id": "5148e955",
   "metadata": {},
   "outputs": [
    {
     "name": "stdout",
     "output_type": "stream",
     "text": [
      "T-statistic: 14.909898799205438\n",
      "P-value: 1.7270969363006174e-50\n",
      "Reject the null hypothesis: There is a statistically significant difference between the completion rates.\n"
     ]
    }
   ],
   "source": [
    "import numpy as np\n",
    "from scipy.stats import ttest_ind\n",
    "\n",
    "# Data for the Test and Control groups\n",
    "# 1 represents completion, 0 represents non-completion\n",
    "\n",
    "# Test group: 100 completions out of 200 participants\n",
    "completion_test = np.array([1] * 17862 + [0] * (33158-17862))\n",
    "\n",
    "# Control group: 80 completions out of 200 participants\n",
    "completion_ctrl = np.array([1] * 14833 + [0] * (30911-14833))\n",
    "\n",
    "# Perform the independent t-test\n",
    "t_stat, p_value = ttest_ind(completion_test, completion_ctrl, equal_var=False, alternative='greater')\n",
    "\n",
    "# Output the results\n",
    "print(f\"T-statistic: {t_stat}\")\n",
    "print(f\"P-value: {p_value}\")\n",
    "\n",
    "# Determine significance\n",
    "alpha = 0.05\n",
    "if p_value < alpha:\n",
    "    print(\"Reject the null hypothesis: There is a statistically significant difference between the completion rates.\")\n",
    "else:\n",
    "    print(\"Fail to reject the null hypothesis: There is no statistically significant difference between the completion rates.\")"
   ]
  },
  {
   "cell_type": "code",
   "execution_count": 10,
   "id": "a3e710ea",
   "metadata": {},
   "outputs": [],
   "source": [
    "# Hypothesis Testing_Completion Rate with a Cost-Effectiveness Threshold"
   ]
  },
  {
   "cell_type": "markdown",
   "id": "42a201c5",
   "metadata": {},
   "source": [
    "The introduction of a new UI design comes with its associated costs: design, development, testing, potential training for staff, and possible short-term disruptions or adjustments for users. To justify these costs, Vanguard has determined that any new design should lead to a minimum increase in the completion rate to be deemed cost-effective.\n",
    "\n",
    "Threshold: Vanguard has set this minimum increase in completion rate at 5%. This is the rate at which the projected benefits, in terms of increased user engagement and potential revenue, are estimated to outweigh the costs of the new design.\n",
    "\n",
    "You are required to carry out another analysis, ensuring that the observed increase in completion rate from the A/B test meets or exceeds this 5% threshold. If the new design doesn’t lead to at least this level of improvement, it may not be justifiable from a cost perspective, regardless of its statistical significance."
   ]
  },
  {
   "cell_type": "code",
   "execution_count": 11,
   "id": "2765c474",
   "metadata": {},
   "outputs": [
    {
     "data": {
      "text/plain": [
       "5.8799999999999955"
      ]
     },
     "execution_count": 11,
     "metadata": {},
     "output_type": "execute_result"
    }
   ],
   "source": [
    "diff"
   ]
  },
  {
   "cell_type": "code",
   "execution_count": null,
   "id": "318aedda",
   "metadata": {},
   "outputs": [],
   "source": [
    "#Set the hypothesis\n",
    "\n",
    "#H0: diff  < 5%\n",
    "#H1: diff >=  5%\n",
    "\n",
    "# where diff = completion_test - completion_ctrl\n",
    "\n",
    "#significance level = 0.05"
   ]
  },
  {
   "cell_type": "code",
   "execution_count": null,
   "id": "3559f56b",
   "metadata": {},
   "outputs": [],
   "source": []
  },
  {
   "cell_type": "code",
   "execution_count": 4,
   "id": "b50bdb85",
   "metadata": {},
   "outputs": [],
   "source": [
    "total_confirm_t = 17862\n",
    "total_users_t = 33158\n",
    "completion_test = round((total_confirm_t/total_users_t)*100,2)"
   ]
  },
  {
   "cell_type": "code",
   "execution_count": 5,
   "id": "a1be882a",
   "metadata": {},
   "outputs": [
    {
     "data": {
      "text/plain": [
       "53.87"
      ]
     },
     "execution_count": 5,
     "metadata": {},
     "output_type": "execute_result"
    }
   ],
   "source": [
    "completion_test"
   ]
  },
  {
   "cell_type": "code",
   "execution_count": 6,
   "id": "cc479f0e",
   "metadata": {},
   "outputs": [],
   "source": [
    "# Test"
   ]
  },
  {
   "cell_type": "code",
   "execution_count": 7,
   "id": "4085296c",
   "metadata": {},
   "outputs": [],
   "source": [
    "total_confirm_c = 14833\n",
    "total_users_c = 30911\n",
    "completion_ctrl = round((total_confirm_c/total_users_c)*100,2)"
   ]
  },
  {
   "cell_type": "code",
   "execution_count": 13,
   "id": "407a878c",
   "metadata": {},
   "outputs": [
    {
     "name": "stdout",
     "output_type": "stream",
     "text": [
      "T-statistic: 14.909898799205438\n",
      "P-value: 1.7270969363006174e-50\n",
      "Observed difference in completion rates: 5.88%\n",
      "Meets or exceeds 5% threshold: True\n",
      "Reject the null hypothesis: There is a statistically significant difference, and it meets the 5% threshold.\n"
     ]
    }
   ],
   "source": [
    "import numpy as np\n",
    "from scipy.stats import ttest_ind\n",
    "\n",
    "# Data for the Test and Control groups\n",
    "# 1 represents completion, 0 represents non-completion\n",
    "\n",
    "# Test group: 100 completions out of 200 participants\n",
    "completion_test = np.array([1] * 17862 + [0] * (33158-17862))\n",
    "\n",
    "# Control group: 80 completions out of 200 participants\n",
    "completion_ctrl = np.array([1] * 14833 + [0] * (30911-14833))\n",
    "\n",
    "# Perform the independent t-test for a one-tailed test\n",
    "t_stat, p_value = ttest_ind(completion_test, completion_ctrl, equal_var=False, alternative='greater')\n",
    "\n",
    "# Calculate the observed difference in proportions\n",
    "prop_test = np.mean(completion_test)\n",
    "prop_control = np.mean(completion_ctrl)\n",
    "observed_diff = prop_test - prop_control\n",
    "\n",
    "# Determine if the observed difference meets or exceeds the 5% threshold\n",
    "threshold = 0.05\n",
    "meets_threshold = observed_diff >= threshold\n",
    "\n",
    "# Output the results\n",
    "print(f\"T-statistic: {t_stat}\")\n",
    "print(f\"P-value: {p_value}\")\n",
    "print(f\"Observed difference in completion rates: {observed_diff:.2%}\")\n",
    "print(f\"Meets or exceeds 5% threshold: {meets_threshold}\")\n",
    "\n",
    "# Determine statistical significance and practical significance\n",
    "alpha = 0.05\n",
    "if p_value < alpha and meets_threshold:\n",
    "    print(\"Reject the null hypothesis: There is a statistically significant difference, and it meets the 5% threshold.\")\n",
    "elif p_value < alpha:\n",
    "    print(\"Reject the null hypothesis: There is a statistically significant difference, but it does not meet the 5% threshold.\")\n",
    "else:\n",
    "    print(\"Fail to reject the null hypothesis: There is no statistically significant difference.\")\n"
   ]
  }
 ],
 "metadata": {
  "kernelspec": {
   "display_name": "Python 3 (ipykernel)",
   "language": "python",
   "name": "python3"
  },
  "language_info": {
   "codemirror_mode": {
    "name": "ipython",
    "version": 3
   },
   "file_extension": ".py",
   "mimetype": "text/x-python",
   "name": "python",
   "nbconvert_exporter": "python",
   "pygments_lexer": "ipython3",
   "version": "3.11.7"
  }
 },
 "nbformat": 4,
 "nbformat_minor": 5
}
