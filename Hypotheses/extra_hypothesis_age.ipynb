{
 "cells": [
  {
   "cell_type": "code",
   "execution_count": 14,
   "id": "491a6f6a-b9d7-400b-b9bf-77baa8855a4a",
   "metadata": {},
   "outputs": [],
   "source": [
    "#Libraries\n",
    "import pandas as pd\n",
    "import numpy as np\n",
    "import matplotlib.pyplot as plt\n",
    "import scipy.stats as st\n",
    "\n",
    "df = pd.read_csv(\"https://raw.githubusercontent.com/KLoVi/vanguard-ab-test/main/Datasets_cleaned/df_demo_cleaned.csv\")"
   ]
  },
  {
   "cell_type": "code",
   "execution_count": 15,
   "id": "507ae1f9-cd6d-4deb-99cf-90af0e652eeb",
   "metadata": {},
   "outputs": [
    {
     "name": "stdout",
     "output_type": "stream",
     "text": [
      "<class 'pandas.core.frame.DataFrame'>\n",
      "RangeIndex: 50487 entries, 0 to 50486\n",
      "Data columns (total 11 columns):\n",
      " #   Column            Non-Null Count  Dtype  \n",
      "---  ------            --------------  -----  \n",
      " 0   client_id         50487 non-null  int64  \n",
      " 1   clnt_tenure_yr    50487 non-null  float64\n",
      " 2   clnt_tenure_mnth  50487 non-null  float64\n",
      " 3   clnt_age          50487 non-null  float64\n",
      " 4   gendr             50487 non-null  object \n",
      " 5   num_accts         50487 non-null  float64\n",
      " 6   bal               50487 non-null  float64\n",
      " 7   calls_6_mnth      50487 non-null  float64\n",
      " 8   logons_6_mnth     50487 non-null  float64\n",
      " 9   Variation         50487 non-null  object \n",
      " 10  age_group         50487 non-null  object \n",
      "dtypes: float64(7), int64(1), object(3)\n",
      "memory usage: 4.2+ MB\n"
     ]
    }
   ],
   "source": [
    "df.info()"
   ]
  },
  {
   "cell_type": "code",
   "execution_count": 42,
   "id": "e549fe2c",
   "metadata": {},
   "outputs": [
    {
     "data": {
      "text/plain": [
       "client_id           50487\n",
       "clnt_tenure_yr        469\n",
       "clnt_tenure_mnth      469\n",
       "clnt_age              158\n",
       "gendr                   4\n",
       "num_accts               7\n",
       "bal                 50311\n",
       "calls_6_mnth            7\n",
       "logons_6_mnth           7\n",
       "Variation               2\n",
       "age_group               6\n",
       "dtype: int64"
      ]
     },
     "execution_count": 42,
     "metadata": {},
     "output_type": "execute_result"
    }
   ],
   "source": [
    "df.nunique()"
   ]
  },
  {
   "cell_type": "code",
   "execution_count": 21,
   "id": "02a3695f-7f37-45fa-99d8-808e3d686946",
   "metadata": {},
   "outputs": [],
   "source": [
    "df_test = df[df[\"Variation\"]==\"Test\"][\"clnt_age\"]"
   ]
  },
  {
   "cell_type": "code",
   "execution_count": 22,
   "id": "1d3ddfa8",
   "metadata": {},
   "outputs": [
    {
     "data": {
      "text/plain": [
       "0        60.5\n",
       "2        32.0\n",
       "3        49.0\n",
       "7        57.5\n",
       "9        54.5\n",
       "         ... \n",
       "50479    35.0\n",
       "50482    68.5\n",
       "50484    56.5\n",
       "50485    69.5\n",
       "50486    61.0\n",
       "Name: clnt_age, Length: 26961, dtype: float64"
      ]
     },
     "execution_count": 22,
     "metadata": {},
     "output_type": "execute_result"
    }
   ],
   "source": [
    "df_test"
   ]
  },
  {
   "cell_type": "code",
   "execution_count": 29,
   "id": "c73c12c2",
   "metadata": {},
   "outputs": [],
   "source": [
    "df_ctrl = df[df[\"Variation\"]==\"Control\"][\"clnt_age\"]"
   ]
  },
  {
   "cell_type": "code",
   "execution_count": 30,
   "id": "4306cbe2",
   "metadata": {
    "scrolled": true
   },
   "outputs": [
    {
     "data": {
      "text/plain": [
       "1        58.0\n",
       "4        33.0\n",
       "5        30.5\n",
       "6        58.5\n",
       "8        67.5\n",
       "         ... \n",
       "50473    36.0\n",
       "50478    48.0\n",
       "50480    57.0\n",
       "50481    62.5\n",
       "50483    68.5\n",
       "Name: clnt_age, Length: 23526, dtype: float64"
      ]
     },
     "execution_count": 30,
     "metadata": {},
     "output_type": "execute_result"
    }
   ],
   "source": [
    "df_ctrl"
   ]
  },
  {
   "cell_type": "code",
   "execution_count": 39,
   "id": "ad16ab26",
   "metadata": {},
   "outputs": [],
   "source": [
    "#Set the hypothesis\n",
    "\n",
    "#H0: avg_test = avg_ctrl\n",
    "#H1: avg_test != avg_ctrl \n",
    "\n",
    "#significance level = 0.05"
   ]
  },
  {
   "cell_type": "code",
   "execution_count": 40,
   "id": "756a3fe0",
   "metadata": {
    "scrolled": true
   },
   "outputs": [
    {
     "name": "stdout",
     "output_type": "stream",
     "text": [
      "T-statistic: -2.416068061200627\n",
      "P-value: 0.015692719461388675\n",
      "Reject the null hypothesis: There is a statistically significant difference between the average age of clients engaging with the new process compared with the old process.\n"
     ]
    }
   ],
   "source": [
    "t_stat, p_value = ttest_ind(df_test, df_ctrl, equal_var=False, alternative='two-sided')\n",
    "\n",
    "# Output the results\n",
    "print(f\"T-statistic: {t_stat}\")\n",
    "print(f\"P-value: {p_value}\")\n",
    "\n",
    "# Determine significance\n",
    "alpha = 0.05\n",
    "if p_value < alpha:\n",
    "    print(\"Reject the null hypothesis: There is a statistically significant difference between the average age of clients engaging with the new process compared with the old process.\")\n",
    "else:\n",
    "    print(\"Fail to reject the null hypothesis: There is no statistically significant difference between the average age of clients engaging with the new process compared with the old process.\")"
   ]
  },
  {
   "cell_type": "code",
   "execution_count": 32,
   "id": "1c8aa01d",
   "metadata": {},
   "outputs": [
    {
     "data": {
      "text/plain": [
       "47.498427271954434"
      ]
     },
     "execution_count": 32,
     "metadata": {},
     "output_type": "execute_result"
    }
   ],
   "source": [
    "df_ctrl.mean()"
   ]
  },
  {
   "cell_type": "code",
   "execution_count": 33,
   "id": "9228bf16",
   "metadata": {
    "scrolled": true
   },
   "outputs": [
    {
     "data": {
      "text/plain": [
       "47.16392196135158"
      ]
     },
     "execution_count": 33,
     "metadata": {},
     "output_type": "execute_result"
    }
   ],
   "source": [
    "df_test.mean()"
   ]
  },
  {
   "cell_type": "code",
   "execution_count": 34,
   "id": "2de6e644",
   "metadata": {},
   "outputs": [
    {
     "data": {
      "text/plain": [
       "0"
      ]
     },
     "execution_count": 34,
     "metadata": {},
     "output_type": "execute_result"
    }
   ],
   "source": [
    "df_ctrl.isnull().sum()"
   ]
  },
  {
   "cell_type": "code",
   "execution_count": 35,
   "id": "57ccda75",
   "metadata": {},
   "outputs": [
    {
     "data": {
      "text/plain": [
       "0"
      ]
     },
     "execution_count": 35,
     "metadata": {},
     "output_type": "execute_result"
    }
   ],
   "source": [
    "df_test.isnull().sum()"
   ]
  },
  {
   "cell_type": "code",
   "execution_count": 47,
   "id": "4909fc3d",
   "metadata": {},
   "outputs": [
    {
     "data": {
      "text/plain": [
       "53.40186582684652"
      ]
     },
     "execution_count": 47,
     "metadata": {},
     "output_type": "execute_result"
    }
   ],
   "source": [
    "perc_test = len(df_test)/(len(df_test)+len(df_ctrl))\n",
    "perc_test*100"
   ]
  },
  {
   "cell_type": "code",
   "execution_count": 48,
   "id": "569e23b8",
   "metadata": {},
   "outputs": [
    {
     "data": {
      "text/plain": [
       "46.59813417315348"
      ]
     },
     "execution_count": 48,
     "metadata": {},
     "output_type": "execute_result"
    }
   ],
   "source": [
    "perc_ctrl = len(df_ctrl)/(len(df_test)+len(df_ctrl))\n",
    "perc_ctrl*100"
   ]
  },
  {
   "cell_type": "code",
   "execution_count": null,
   "id": "d90a180e",
   "metadata": {},
   "outputs": [],
   "source": []
  },
  {
   "cell_type": "code",
   "execution_count": null,
   "id": "95acfd2c",
   "metadata": {},
   "outputs": [],
   "source": [
    "df_test_gender = df[df[\"Variation\"]==\"Test\"][\"clnt_age\"]"
   ]
  },
  {
   "cell_type": "code",
   "execution_count": 49,
   "id": "1ad439eb",
   "metadata": {
    "scrolled": true
   },
   "outputs": [
    {
     "data": {
      "text/plain": [
       "gendr\n",
       "U    17280\n",
       "M    16947\n",
       "F    16258\n",
       "X        2\n",
       "Name: count, dtype: int64"
      ]
     },
     "execution_count": 49,
     "metadata": {},
     "output_type": "execute_result"
    }
   ],
   "source": [
    "df.gendr.value_counts()"
   ]
  },
  {
   "cell_type": "code",
   "execution_count": null,
   "id": "221c760d",
   "metadata": {},
   "outputs": [],
   "source": []
  }
 ],
 "metadata": {
  "kernelspec": {
   "display_name": "Python 3 (ipykernel)",
   "language": "python",
   "name": "python3"
  },
  "language_info": {
   "codemirror_mode": {
    "name": "ipython",
    "version": 3
   },
   "file_extension": ".py",
   "mimetype": "text/x-python",
   "name": "python",
   "nbconvert_exporter": "python",
   "pygments_lexer": "ipython3",
   "version": "3.11.7"
  }
 },
 "nbformat": 4,
 "nbformat_minor": 5
}
