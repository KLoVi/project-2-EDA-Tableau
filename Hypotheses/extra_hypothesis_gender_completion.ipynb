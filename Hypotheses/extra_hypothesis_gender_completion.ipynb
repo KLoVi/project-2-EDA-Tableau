{
 "cells": [
  {
   "cell_type": "code",
   "execution_count": 21,
   "id": "491a6f6a-b9d7-400b-b9bf-77baa8855a4a",
   "metadata": {},
   "outputs": [
    {
     "name": "stderr",
     "output_type": "stream",
     "text": [
      "/var/folders/wl/6wzqzn0n53nfpnx2t2hv7rxm0000gn/T/ipykernel_88939/1139391674.py:9: DtypeWarning: Columns (3) have mixed types. Specify dtype option on import or set low_memory=False.\n",
      "  df = pd.read_csv(\"/Users/sebastianfrowein/Desktop/Bewerbungen 2024/df_demo_merged_concat2\")\n"
     ]
    }
   ],
   "source": [
    "import pandas as pd\n",
    "import matplotlib.pyplot as plt\n",
    "import seaborn as sns\n",
    "import numpy as np\n",
    "\n",
    "%matplotlib inline\n",
    "\n",
    "# Loading the housing price dataset (assuming the file name is \"housing_price.csv\")\n",
    "df = pd.read_csv(\"/Users/sebastianfrowein/Desktop/Bewerbungen 2024/df_demo_merged_concat2\")"
   ]
  },
  {
   "cell_type": "code",
   "execution_count": 23,
   "id": "db34917d-0af6-4e3f-b4f4-d6668b4e2b10",
   "metadata": {},
   "outputs": [
    {
     "name": "stdout",
     "output_type": "stream",
     "text": [
      "T-statistic: 4.6158133077207255\n",
      "P-value: 3.920397979906506e-06\n",
      "Reject the null hypothesis: There is a statistically significant difference between the completion rates of males and females.\n"
     ]
    }
   ],
   "source": [
    "from scipy.stats import ttest_ind\n",
    "\n",
    "if len(completion_male) == 0 or len(completion_female) == 0:\n",
    "    print(\"Insufficient data for one or both genders.\")\n",
    "else:\n",
    "    t_stat, p_value = ttest_ind(completion_male, completion_female, equal_var=False)\n",
    "\n",
    "    print(f\"T-statistic: {t_stat}\")\n",
    "    print(f\"P-value: {p_value}\")\n",
    "\n",
    "    alpha = 0.05\n",
    "    if p_value < alpha:\n",
    "        print(\"Reject the null hypothesis: There is a statistically significant difference between the completion rates of males and females.\")\n",
    "    else:\n",
    "        print(\"Fail to reject the null hypothesis: There is no statistically significant difference between the completion rates of males and females.\")\n"
   ]
  },
  {
   "cell_type": "markdown",
   "id": "490de749-a6b5-4dd0-a989-fc825c0f8bc3",
   "metadata": {},
   "source": [
    "## Analysis and Conclusion## \n",
    "P-value Analysis: The p-value  is much smaller than the significance level (0.05). This indicates that the observed difference in completion rates between males and females is highly unlikely to have occurred by random chance.\n",
    "\n",
    "T-statistic Analysis: the difference between the male and female completion rates is 4.6158 standard deviations away from the null hypothesis.\n",
    "\n",
    "###Conclusion###\n",
    "Reject the Null Hypothesis: Since the p-value is less than the significance level (0.05), we reject the null hypothesis. This means there is statistically significant evidence to suggest that there is a difference in the completion rates between males and females.\n",
    "Why the Difference is Significant\n",
    "Low P-value: The extremely low p-value (3.92e-06) indicates that the probability of observing such a difference by random chance is very low if the null hypothesis were true.\n",
    "High T-statistic: A high t-statistic further supports that the difference between the groups is not due to random variation."
   ]
  },
  {
   "cell_type": "code",
   "execution_count": null,
   "id": "507ae1f9-cd6d-4deb-99cf-90af0e652eeb",
   "metadata": {},
   "outputs": [],
   "source": []
  },
  {
   "cell_type": "code",
   "execution_count": null,
   "id": "02a3695f-7f37-45fa-99d8-808e3d686946",
   "metadata": {},
   "outputs": [],
   "source": []
  }
 ],
 "metadata": {
  "kernelspec": {
   "display_name": "Python 3 (ipykernel)",
   "language": "python",
   "name": "python3"
  },
  "language_info": {
   "codemirror_mode": {
    "name": "ipython",
    "version": 3
   },
   "file_extension": ".py",
   "mimetype": "text/x-python",
   "name": "python",
   "nbconvert_exporter": "python",
   "pygments_lexer": "ipython3",
   "version": "3.11.7"
  }
 },
 "nbformat": 4,
 "nbformat_minor": 5
}
